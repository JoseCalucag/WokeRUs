{
 "cells": [
  {
   "cell_type": "markdown",
   "metadata": {},
   "source": [
    "# Dataset Lending ETL"
   ]
  },
  {
   "cell_type": "code",
   "execution_count": 1,
   "metadata": {},
   "outputs": [],
   "source": [
    "# Import dependencies\n",
    "import pandas as pd \n",
    "import seaborn as sns\n",
    "import matplotlib.pyplot as plt \n",
    "sns.set() \n",
    "\n",
    "pd.set_option('display.float_format', lambda x: '%.5f' % x)\n",
    "pd.set_option(\"max_rows\", None)\n"
   ]
  },
  {
   "cell_type": "code",
   "execution_count": 2,
   "metadata": {},
   "outputs": [],
   "source": [
    "# import datasets\n",
    "# accepted applicants data file \n",
    "raw_accepted = pd.read_csv('../Archive/accepted_2007_to_2018Q4.csv') \n",
    "# rejected applicants data file\n",
    "raw_rejected = pd.read_csv('../Archive/rejected_2007_to_2018Q4.csv')"
   ]
  },
  {
   "cell_type": "code",
   "execution_count": 3,
   "metadata": {},
   "outputs": [],
   "source": [
    "#create data copy \n",
    "file_rejected = raw_rejected.copy()\n"
   ]
  },
  {
   "cell_type": "code",
   "execution_count": 4,
   "metadata": {},
   "outputs": [],
   "source": [
    "#create data copy \n",
    "file_accepted = raw_accepted.copy()\n"
   ]
  },
  {
   "cell_type": "markdown",
   "metadata": {},
   "source": [
    "# Analysis 1 .Binary classification model to accept or reject loan application"
   ]
  },
  {
   "cell_type": "code",
   "execution_count": 5,
   "metadata": {},
   "outputs": [],
   "source": [
    "''' \n",
    "Only keep those columns that are going to be used for analysis \n",
    " \n",
    "Application Date - date does not play a role in getting rejected or accepted unless you beleive in Numerology \n",
    "Loan Title - For out initial model we have left this out since it did not add a lot of value to the rejected decison. \n",
    "Zip Code - We saw people getting accepted and rejected for teh same zipcodes so we think that zipcode does not have a big impact on loan application\n",
    "Policy Code- This is our target column so we have it but made sure it was all '0'\n",
    "\n",
    "'''\n",
    "file_rejected = file_rejected[['Amount Requested', 'Risk_Score',\n",
    "       'Debt-To-Income Ratio', 'Employment Length']]"
   ]
  },
  {
   "cell_type": "code",
   "execution_count": 6,
   "metadata": {},
   "outputs": [
    {
     "output_type": "execute_result",
     "data": {
      "text/plain": [
       "    loan_amnt  fico_range_low  fico_range_high      dti emp_length\n",
       "0  3600.00000       675.00000        679.00000  5.91000  10+ years\n",
       "1 24700.00000       715.00000        719.00000 16.06000  10+ years\n",
       "2 20000.00000       695.00000        699.00000 10.78000  10+ years\n",
       "3 35000.00000       785.00000        789.00000 17.06000  10+ years\n",
       "4 10400.00000       695.00000        699.00000 25.37000    3 years"
      ],
      "text/html": "<div>\n<style scoped>\n    .dataframe tbody tr th:only-of-type {\n        vertical-align: middle;\n    }\n\n    .dataframe tbody tr th {\n        vertical-align: top;\n    }\n\n    .dataframe thead th {\n        text-align: right;\n    }\n</style>\n<table border=\"1\" class=\"dataframe\">\n  <thead>\n    <tr style=\"text-align: right;\">\n      <th></th>\n      <th>loan_amnt</th>\n      <th>fico_range_low</th>\n      <th>fico_range_high</th>\n      <th>dti</th>\n      <th>emp_length</th>\n    </tr>\n  </thead>\n  <tbody>\n    <tr>\n      <th>0</th>\n      <td>3600.00000</td>\n      <td>675.00000</td>\n      <td>679.00000</td>\n      <td>5.91000</td>\n      <td>10+ years</td>\n    </tr>\n    <tr>\n      <th>1</th>\n      <td>24700.00000</td>\n      <td>715.00000</td>\n      <td>719.00000</td>\n      <td>16.06000</td>\n      <td>10+ years</td>\n    </tr>\n    <tr>\n      <th>2</th>\n      <td>20000.00000</td>\n      <td>695.00000</td>\n      <td>699.00000</td>\n      <td>10.78000</td>\n      <td>10+ years</td>\n    </tr>\n    <tr>\n      <th>3</th>\n      <td>35000.00000</td>\n      <td>785.00000</td>\n      <td>789.00000</td>\n      <td>17.06000</td>\n      <td>10+ years</td>\n    </tr>\n    <tr>\n      <th>4</th>\n      <td>10400.00000</td>\n      <td>695.00000</td>\n      <td>699.00000</td>\n      <td>25.37000</td>\n      <td>3 years</td>\n    </tr>\n  </tbody>\n</table>\n</div>"
     },
     "metadata": {},
     "execution_count": 6
    }
   ],
   "source": [
    "# Extact the same columms from the  accepted applicant df to match the rejected data set. We will combine this dataset at a later set to make a complete data frame that will be used to train teh classification model. \n",
    "\n",
    "file_accepted = file_accepted[['loan_amnt', 'fico_range_low', 'fico_range_high', 'dti', 'emp_length']]\n",
    "file_accepted.head()"
   ]
  },
  {
   "cell_type": "code",
   "execution_count": 7,
   "metadata": {},
   "outputs": [],
   "source": [
    "file_rejected['Label_target'] = 0\n"
   ]
  },
  {
   "cell_type": "code",
   "execution_count": 8,
   "metadata": {},
   "outputs": [],
   "source": [
    "# Calculate the average FICO score for the high and low range of the applicant\n",
    "file_accepted['average'] = (file_accepted['fico_range_low'] + file_accepted['fico_range_high'])*0.5\n",
    "\n",
    "# Drop the FICO high and low scores \n",
    "file_accepted = file_accepted.drop(columns=['fico_range_low','fico_range_high'], axis=1)"
   ]
  },
  {
   "cell_type": "code",
   "execution_count": 9,
   "metadata": {},
   "outputs": [],
   "source": [
    "#Create a target label column for accepted df\n",
    "file_accepted['label_target']=1   \n"
   ]
  },
  {
   "cell_type": "code",
   "execution_count": 10,
   "metadata": {},
   "outputs": [],
   "source": [
    "# rename columns for accepted and rejected df\n",
    "file_accepted.rename(columns= {'loan_amnt': 'Loan_Amount', 'dti': 'Debt_income_ratio', 'average': 'Credit_Score', 'label_target': 'Loan_Status', 'emp_length':'Emp_Length'}, inplace=True)\n",
    "\n",
    "file_rejected.rename(columns= {'Amount Requested': 'Loan_Amount', 'Debt-To-Income Ratio': 'Debt_income_ratio', 'Risk_Score': 'Credit_Score', 'Label_target': 'Loan_Status', 'Employment Length':'Emp_Length'}, inplace=True)"
   ]
  },
  {
   "cell_type": "code",
   "execution_count": 11,
   "metadata": {},
   "outputs": [],
   "source": [
    "# rearrange columns in rejected df to concat with the accepted df\n",
    "file_rejected = file_rejected[['Loan_Amount', 'Debt_income_ratio', 'Emp_Length', 'Credit_Score', 'Loan_Status']]\n"
   ]
  },
  {
   "cell_type": "code",
   "execution_count": 12,
   "metadata": {},
   "outputs": [
    {
     "output_type": "execute_result",
     "data": {
      "text/plain": [
       "   Loan_Amount  Debt_income_ratio Emp_Length  Credit_Score  Loan_Status\n",
       "0   1000.00000           10.00000    4 years     693.00000            0\n",
       "1   1000.00000           10.00000   < 1 year     703.00000            0\n",
       "2  11000.00000           10.00000     1 year     715.00000            0\n",
       "3   6000.00000           38.64000   < 1 year     698.00000            0\n",
       "4   1500.00000            9.43000   < 1 year     509.00000            0"
      ],
      "text/html": "<div>\n<style scoped>\n    .dataframe tbody tr th:only-of-type {\n        vertical-align: middle;\n    }\n\n    .dataframe tbody tr th {\n        vertical-align: top;\n    }\n\n    .dataframe thead th {\n        text-align: right;\n    }\n</style>\n<table border=\"1\" class=\"dataframe\">\n  <thead>\n    <tr style=\"text-align: right;\">\n      <th></th>\n      <th>Loan_Amount</th>\n      <th>Debt_income_ratio</th>\n      <th>Emp_Length</th>\n      <th>Credit_Score</th>\n      <th>Loan_Status</th>\n    </tr>\n  </thead>\n  <tbody>\n    <tr>\n      <th>0</th>\n      <td>1000.00000</td>\n      <td>10.00000</td>\n      <td>4 years</td>\n      <td>693.00000</td>\n      <td>0</td>\n    </tr>\n    <tr>\n      <th>1</th>\n      <td>1000.00000</td>\n      <td>10.00000</td>\n      <td>&lt; 1 year</td>\n      <td>703.00000</td>\n      <td>0</td>\n    </tr>\n    <tr>\n      <th>2</th>\n      <td>11000.00000</td>\n      <td>10.00000</td>\n      <td>1 year</td>\n      <td>715.00000</td>\n      <td>0</td>\n    </tr>\n    <tr>\n      <th>3</th>\n      <td>6000.00000</td>\n      <td>38.64000</td>\n      <td>&lt; 1 year</td>\n      <td>698.00000</td>\n      <td>0</td>\n    </tr>\n    <tr>\n      <th>4</th>\n      <td>1500.00000</td>\n      <td>9.43000</td>\n      <td>&lt; 1 year</td>\n      <td>509.00000</td>\n      <td>0</td>\n    </tr>\n  </tbody>\n</table>\n</div>"
     },
     "metadata": {},
     "execution_count": 12
    }
   ],
   "source": [
    "# remove % from Debt_income_ratio\n",
    "file_rejected['Debt_income_ratio'] = file_rejected['Debt_income_ratio'].str.replace('%','')\n",
    "file_rejected['Debt_income_ratio'] = pd.to_numeric(file_rejected['Debt_income_ratio'])\n",
    "file_rejected.head()\n"
   ]
  },
  {
   "cell_type": "code",
   "execution_count": 13,
   "metadata": {},
   "outputs": [
    {
     "output_type": "execute_result",
     "data": {
      "text/plain": [
       "Loan_Amount                 0\n",
       "Debt_income_ratio           0\n",
       "Emp_Length             951355\n",
       "Credit_Score         18497630\n",
       "Loan_Status                 0\n",
       "dtype: int64"
      ]
     },
     "metadata": {},
     "execution_count": 13
    }
   ],
   "source": [
    "# Check number of NaNs in rejected dataset\n",
    "\n",
    "file_rejected.isnull().sum()"
   ]
  },
  {
   "cell_type": "code",
   "execution_count": 14,
   "metadata": {},
   "outputs": [
    {
     "output_type": "execute_result",
     "data": {
      "text/plain": [
       "Loan_Amount              33\n",
       "Debt_income_ratio      1744\n",
       "Emp_Length           146940\n",
       "Credit_Score             33\n",
       "Loan_Status               0\n",
       "dtype: int64"
      ]
     },
     "metadata": {},
     "execution_count": 14
    }
   ],
   "source": [
    "# Check number of NaNs in accepted dataset\n",
    "\n",
    "file_accepted.isnull().sum()"
   ]
  },
  {
   "cell_type": "code",
   "execution_count": 15,
   "metadata": {},
   "outputs": [
    {
     "output_type": "stream",
     "name": "stdout",
     "text": [
      "There are 2113648 succesfull applications and 8992595 unsuccessful applications\n"
     ]
    }
   ],
   "source": [
    "# Drop NaNs from both datasets\n",
    "\n",
    "file_accepted = file_accepted.dropna()\n",
    "file_rejected = file_rejected.dropna()\n",
    "print(f'There are {file_accepted.shape[0]} succesfull applications and {file_rejected.shape[0]} unsuccessful applications')"
   ]
  },
  {
   "cell_type": "code",
   "execution_count": 16,
   "metadata": {},
   "outputs": [],
   "source": [
    "# Save cleaned data sets \n",
    "# file_accepted.to_csv('../Archive/accepted_data_clean', index=False)\n",
    "# file_rejected.to_csv('../Archive/rejected_data_clean', index=False)"
   ]
  },
  {
   "cell_type": "code",
   "execution_count": 17,
   "metadata": {},
   "outputs": [
    {
     "output_type": "execute_result",
     "data": {
      "text/plain": [
       "   Loan_Amount  Debt_income_ratio Emp_Length  Credit_Score  Loan_Status\n",
       "0   3600.00000            5.91000  10+ years     677.00000            1\n",
       "1  24700.00000           16.06000  10+ years     717.00000            1\n",
       "2  20000.00000           10.78000  10+ years     697.00000            1\n",
       "3  35000.00000           17.06000  10+ years     787.00000            1\n",
       "4  10400.00000           25.37000    3 years     697.00000            1"
      ],
      "text/html": "<div>\n<style scoped>\n    .dataframe tbody tr th:only-of-type {\n        vertical-align: middle;\n    }\n\n    .dataframe tbody tr th {\n        vertical-align: top;\n    }\n\n    .dataframe thead th {\n        text-align: right;\n    }\n</style>\n<table border=\"1\" class=\"dataframe\">\n  <thead>\n    <tr style=\"text-align: right;\">\n      <th></th>\n      <th>Loan_Amount</th>\n      <th>Debt_income_ratio</th>\n      <th>Emp_Length</th>\n      <th>Credit_Score</th>\n      <th>Loan_Status</th>\n    </tr>\n  </thead>\n  <tbody>\n    <tr>\n      <th>0</th>\n      <td>3600.00000</td>\n      <td>5.91000</td>\n      <td>10+ years</td>\n      <td>677.00000</td>\n      <td>1</td>\n    </tr>\n    <tr>\n      <th>1</th>\n      <td>24700.00000</td>\n      <td>16.06000</td>\n      <td>10+ years</td>\n      <td>717.00000</td>\n      <td>1</td>\n    </tr>\n    <tr>\n      <th>2</th>\n      <td>20000.00000</td>\n      <td>10.78000</td>\n      <td>10+ years</td>\n      <td>697.00000</td>\n      <td>1</td>\n    </tr>\n    <tr>\n      <th>3</th>\n      <td>35000.00000</td>\n      <td>17.06000</td>\n      <td>10+ years</td>\n      <td>787.00000</td>\n      <td>1</td>\n    </tr>\n    <tr>\n      <th>4</th>\n      <td>10400.00000</td>\n      <td>25.37000</td>\n      <td>3 years</td>\n      <td>697.00000</td>\n      <td>1</td>\n    </tr>\n  </tbody>\n</table>\n</div>"
     },
     "metadata": {},
     "execution_count": 17
    }
   ],
   "source": [
    "# Concatinate the two dataframes to single \n",
    "consolidated = pd.concat([file_accepted, file_rejected], axis=0).reset_index(drop=True)\n",
    "consolidated.head()"
   ]
  },
  {
   "cell_type": "code",
   "execution_count": 18,
   "metadata": {},
   "outputs": [
    {
     "output_type": "execute_result",
     "data": {
      "text/plain": [
       "< 1 year     8358386\n",
       "10+ years     960253\n",
       "5 years       365812\n",
       "2 years       282099\n",
       "3 years       248095\n",
       "1 year        224209\n",
       "4 years       186245\n",
       "6 years       137652\n",
       "7 years       122446\n",
       "8 years       119819\n",
       "9 years       101227\n",
       "Name: Emp_Length, dtype: int64"
      ]
     },
     "metadata": {},
     "execution_count": 18
    }
   ],
   "source": [
    "# Check unique values in Emp_length col\n",
    "consolidated['Emp_Length'].value_counts()"
   ]
  },
  {
   "cell_type": "code",
   "execution_count": 19,
   "metadata": {},
   "outputs": [
    {
     "output_type": "execute_result",
     "data": {
      "text/plain": [
       "0     8358386\n",
       "10     960253\n",
       "5      365812\n",
       "2      282099\n",
       "3      248095\n",
       "1      224209\n",
       "4      186245\n",
       "6      137652\n",
       "7      122446\n",
       "8      119819\n",
       "9      101227\n",
       "Name: Emp_Length, dtype: int64"
      ]
     },
     "metadata": {},
     "execution_count": 19
    }
   ],
   "source": [
    "# Remove the strings years, <,>,+ from Emp_length\n",
    "\n",
    "consolidated['Emp_Length'] = consolidated['Emp_Length'].replace('10+ years','10')\n",
    "consolidated['Emp_Length'] = consolidated['Emp_Length'].replace('< 1 year','0')\n",
    "consolidated['Emp_Length'] = consolidated['Emp_Length'].replace('1 year','1')\n",
    "consolidated['Emp_Length'] = consolidated['Emp_Length'].str.replace(' years','')\n",
    "consolidated['Emp_Length'] = consolidated['Emp_Length'].replace(' ','')\n",
    "consolidated['Emp_Length'] = pd.to_numeric(consolidated['Emp_Length'])\n",
    "consolidated['Emp_Length'].value_counts()"
   ]
  },
  {
   "cell_type": "code",
   "execution_count": 20,
   "metadata": {},
   "outputs": [
    {
     "output_type": "execute_result",
     "data": {
      "text/plain": [
       "         Loan_Amount  Debt_income_ratio     Emp_Length   Credit_Score  \\\n",
       "count 11106243.00000     11106243.00000 11106243.00000 11106243.00000   \n",
       "mean     13132.42598          140.83387        1.55425      641.25526   \n",
       "std      10653.05310        15988.09176        3.17176       87.03325   \n",
       "min          0.00000           -1.00000        0.00000        0.00000   \n",
       "25%       5000.00000            9.89000        0.00000      604.00000   \n",
       "50%      10000.00000           19.65000        0.00000      653.00000   \n",
       "75%      20000.00000           32.80000        0.00000      687.00000   \n",
       "max    1400000.00000     50000031.49000       10.00000      990.00000   \n",
       "\n",
       "         Loan_Status  \n",
       "count 11106243.00000  \n",
       "mean         0.19031  \n",
       "std          0.39255  \n",
       "min          0.00000  \n",
       "25%          0.00000  \n",
       "50%          0.00000  \n",
       "75%          0.00000  \n",
       "max          1.00000  "
      ],
      "text/html": "<div>\n<style scoped>\n    .dataframe tbody tr th:only-of-type {\n        vertical-align: middle;\n    }\n\n    .dataframe tbody tr th {\n        vertical-align: top;\n    }\n\n    .dataframe thead th {\n        text-align: right;\n    }\n</style>\n<table border=\"1\" class=\"dataframe\">\n  <thead>\n    <tr style=\"text-align: right;\">\n      <th></th>\n      <th>Loan_Amount</th>\n      <th>Debt_income_ratio</th>\n      <th>Emp_Length</th>\n      <th>Credit_Score</th>\n      <th>Loan_Status</th>\n    </tr>\n  </thead>\n  <tbody>\n    <tr>\n      <th>count</th>\n      <td>11106243.00000</td>\n      <td>11106243.00000</td>\n      <td>11106243.00000</td>\n      <td>11106243.00000</td>\n      <td>11106243.00000</td>\n    </tr>\n    <tr>\n      <th>mean</th>\n      <td>13132.42598</td>\n      <td>140.83387</td>\n      <td>1.55425</td>\n      <td>641.25526</td>\n      <td>0.19031</td>\n    </tr>\n    <tr>\n      <th>std</th>\n      <td>10653.05310</td>\n      <td>15988.09176</td>\n      <td>3.17176</td>\n      <td>87.03325</td>\n      <td>0.39255</td>\n    </tr>\n    <tr>\n      <th>min</th>\n      <td>0.00000</td>\n      <td>-1.00000</td>\n      <td>0.00000</td>\n      <td>0.00000</td>\n      <td>0.00000</td>\n    </tr>\n    <tr>\n      <th>25%</th>\n      <td>5000.00000</td>\n      <td>9.89000</td>\n      <td>0.00000</td>\n      <td>604.00000</td>\n      <td>0.00000</td>\n    </tr>\n    <tr>\n      <th>50%</th>\n      <td>10000.00000</td>\n      <td>19.65000</td>\n      <td>0.00000</td>\n      <td>653.00000</td>\n      <td>0.00000</td>\n    </tr>\n    <tr>\n      <th>75%</th>\n      <td>20000.00000</td>\n      <td>32.80000</td>\n      <td>0.00000</td>\n      <td>687.00000</td>\n      <td>0.00000</td>\n    </tr>\n    <tr>\n      <th>max</th>\n      <td>1400000.00000</td>\n      <td>50000031.49000</td>\n      <td>10.00000</td>\n      <td>990.00000</td>\n      <td>1.00000</td>\n    </tr>\n  </tbody>\n</table>\n</div>"
     },
     "metadata": {},
     "execution_count": 20
    }
   ],
   "source": [
    "# Get dataset summary and identify outliers\n",
    "consolidated.describe()"
   ]
  },
  {
   "cell_type": "code",
   "execution_count": 21,
   "metadata": {},
   "outputs": [
    {
     "output_type": "execute_result",
     "data": {
      "text/plain": [
       "Loan_Amount          161845\n",
       "Debt_income_ratio    161845\n",
       "Emp_Length           161845\n",
       "Credit_Score         161845\n",
       "Loan_Status          161845\n",
       "dtype: int64"
      ]
     },
     "metadata": {},
     "execution_count": 21
    }
   ],
   "source": [
    "#counting outliers\n",
    "consolidated[(consolidated['Debt_income_ratio']>300) | (consolidated['Debt_income_ratio']<0) | (consolidated['Credit_Score']>850) | (consolidated['Credit_Score']<0)].count()"
   ]
  },
  {
   "cell_type": "code",
   "execution_count": 22,
   "metadata": {},
   "outputs": [
    {
     "output_type": "execute_result",
     "data": {
      "text/plain": [
       "(10901852, 5)"
      ]
     },
     "metadata": {},
     "execution_count": 22
    }
   ],
   "source": [
    "#Clean up data outliers\n",
    "consolidated.drop(consolidated[consolidated['Debt_income_ratio']>200].index, inplace = True)\n",
    "consolidated.drop(consolidated[consolidated['Debt_income_ratio']<0].index, inplace = True)\n",
    "consolidated.drop(consolidated[consolidated['Credit_Score']<0].index, inplace = True)\n",
    "consolidated.drop(consolidated[consolidated['Credit_Score']>850].index, inplace = True)\n",
    "consolidated.shape"
   ]
  },
  {
   "cell_type": "code",
   "execution_count": 46,
   "metadata": {},
   "outputs": [
    {
     "output_type": "execute_result",
     "data": {
      "text/plain": [
       "(10902, 5)"
      ]
     },
     "metadata": {},
     "execution_count": 46
    }
   ],
   "source": [
    "# Inital Run by sampling the small subset of data  to make sure the cide runs \n",
    "consolidated = consolidated.sample(frac=0.01, replace=False, random_state=1)\n",
    "consolidated.shape"
   ]
  },
  {
   "cell_type": "markdown",
   "metadata": {},
   "source": [
    "### Data Visualization"
   ]
  },
  {
   "cell_type": "code",
   "execution_count": 47,
   "metadata": {},
   "outputs": [],
   "source": [
    "#Since dataset is very large, we will extract a small sample from our datasaet and plot \n",
    "# sample_df = consolidated.sample(frac=0.1, replace=False, random_state=1)\n",
    "\n",
    "# plt.scatter(sample_df['Debt_income_ratio'],sample_df['Credit_Score'],c=sample_df['Loan_Status'])\n",
    "# plt.show()"
   ]
  },
  {
   "cell_type": "code",
   "execution_count": 48,
   "metadata": {},
   "outputs": [],
   "source": [
    "# sample_df['Debt_income_ratio'].plot.density()"
   ]
  },
  {
   "cell_type": "code",
   "execution_count": 49,
   "metadata": {},
   "outputs": [],
   "source": [
    "# sample_df['Credit_Score'].plot.density()"
   ]
  },
  {
   "cell_type": "markdown",
   "metadata": {},
   "source": [
    "### Removing Class Imbalance\n",
    " "
   ]
  },
  {
   "cell_type": "markdown",
   "metadata": {},
   "source": [
    "### Method 1: Oversampling\n",
    "This involves duplicating the minority class. This can potentially lead to overfitting or biasing towards some of minority class outliers/data. "
   ]
  },
  {
   "cell_type": "code",
   "execution_count": 50,
   "metadata": {},
   "outputs": [],
   "source": [
    "# Import dependencies\n",
    "from sklearn.model_selection import train_test_split\n",
    "from imblearn.over_sampling import RandomOverSampler\n",
    "from imblearn.under_sampling import RandomUnderSampler\n",
    "from imblearn.over_sampling import SMOTE\n",
    "from imblearn.under_sampling import ClusterCentroids\n",
    "from sklearn.preprocessing import StandardScaler\n",
    "from collections import Counter"
   ]
  },
  {
   "cell_type": "code",
   "execution_count": 51,
   "metadata": {},
   "outputs": [
    {
     "output_type": "stream",
     "name": "stdout",
     "text": [
      " The count for y_train before oversample is:Counter({0: 6543, 1: 1633})\n"
     ]
    }
   ],
   "source": [
    "# Preprocess the data by using StandardScaler\n",
    "\n",
    "y = consolidated['Loan_Status']\n",
    "X = consolidated.drop('Loan_Status',axis=1)\n",
    "X_train, X_test, y_train, y_test = train_test_split(X,y, random_state=1, stratify=y)\n",
    "\n",
    "scaler = StandardScaler()\n",
    "\n",
    "scaler = scaler.fit(X_train)\n",
    "X_train_scaled = scaler.transform(X_train)\n",
    "X_test_scaled = scaler.transform(X_test)\n",
    "print(f' The count for y_train before oversample is:{Counter(y_train)}')"
   ]
  },
  {
   "cell_type": "code",
   "execution_count": 52,
   "metadata": {},
   "outputs": [
    {
     "output_type": "stream",
     "name": "stdout",
     "text": [
      " The count for y_train after oversample is:Counter({0: 6543, 1: 6543})\n"
     ]
    }
   ],
   "source": [
    "# Oversampling the data\n",
    "over = RandomOverSampler(sampling_strategy='minority') # 'minority' can be replaced by a float < 1\n",
    "X_train_over,y_train_over = over.fit_resample(X_train_scaled,y_train)\n",
    "print(f' The count for y_train after oversample is:{Counter(y_train_over)}')"
   ]
  },
  {
   "cell_type": "markdown",
   "metadata": {},
   "source": [
    "### Method 2: Undersampling\n",
    "This involves removing samples from the majority class. This can potentially lead to losing some of teh important infromation from the dataset."
   ]
  },
  {
   "cell_type": "code",
   "execution_count": 53,
   "metadata": {},
   "outputs": [
    {
     "output_type": "stream",
     "name": "stdout",
     "text": [
      " The count for y_train after undersample is:Counter({0: 1633, 1: 1633})\n"
     ]
    }
   ],
   "source": [
    "# Undersampling the data\n",
    "under = RandomUnderSampler(sampling_strategy='majority') # 'majority' can be replaced by a float < 1\n",
    "X_train_under,y_train_under = under.fit_resample(X_train_scaled,y_train)\n",
    "print(f' The count for y_train after undersample is:{Counter(y_train_under)}')"
   ]
  },
  {
   "cell_type": "markdown",
   "metadata": {},
   "source": [
    "### Mehtod 3: Oversampling SMOTE\n",
    "The synthetic minority oversampling technique (SMOTE) is another oversampling approach where new instances of minority class are interpolated. "
   ]
  },
  {
   "cell_type": "code",
   "execution_count": 54,
   "metadata": {},
   "outputs": [
    {
     "output_type": "stream",
     "name": "stdout",
     "text": [
      " The count for y_train after SMOTE oversample is:Counter({0: 6543, 1: 6543})\n"
     ]
    }
   ],
   "source": [
    "# Resampling using SMOTE the data\n",
    "smote = SMOTE(sampling_strategy='auto') \n",
    "X_train_smote,y_train_smote = smote.fit_resample(X_train_scaled,y_train)\n",
    "print(f' The count for y_train after SMOTE oversample is:{Counter(y_train_smote)}')"
   ]
  },
  {
   "cell_type": "markdown",
   "metadata": {},
   "source": [
    "### Method 4: Cluster Centroid Umdersampling\n",
    "The algorithm identifies clusters of the majority class, then generates synthetic data points, called centroids, that are representative of the clusters. The majority class is then undersampled down to the size of the minority class."
   ]
  },
  {
   "cell_type": "code",
   "execution_count": 55,
   "metadata": {},
   "outputs": [],
   "source": [
    "# # Resampling using Cluster Centroids\n",
    "# cc = ClusterCentroids() \n",
    "# X_train_cc,y_train_cc = cc.fit_resample(X_train_scaled,y_train)\n",
    "# print(f' The count for y_train after CC undersample is:{Counter(y_train_cc)}')"
   ]
  },
  {
   "cell_type": "markdown",
   "metadata": {},
   "source": [
    "### Logistic Regression "
   ]
  },
  {
   "cell_type": "code",
   "execution_count": 56,
   "metadata": {},
   "outputs": [],
   "source": [
    "from sklearn.linear_model import LogisticRegression\n",
    "from sklearn.metrics import classification_report\n",
    "from sklearn.metrics import confusion_matrix\n",
    "from sklearn.metrics import accuracy_score"
   ]
  },
  {
   "cell_type": "code",
   "execution_count": 57,
   "metadata": {},
   "outputs": [],
   "source": [
    "session_names = ['Imbalanced', 'Oversampling', 'Undersampling', 'SMOTE'] # CC is not running right now\n",
    "X_train_sets = [X_train_scaled, X_train_over, X_train_under, X_train_smote]\n",
    "y_train_sets = [y_train, y_train_over, y_train_under, y_train_smote]"
   ]
  },
  {
   "cell_type": "code",
   "execution_count": 58,
   "metadata": {},
   "outputs": [
    {
     "output_type": "stream",
     "name": "stdout",
     "text": [
      "This is the result from Imbalanced method\naccuracy: 0.886\n              precision    recall  f1-score   support\n\n           0       0.91      0.95      0.93      2182\n           1       0.77      0.61      0.68       544\n\n    accuracy                           0.89      2726\n   macro avg       0.84      0.78      0.80      2726\nweighted avg       0.88      0.89      0.88      2726\n\n------------------------------------\n------------------------------------\nThis is the result from Oversampling method\naccuracy: 0.885\n              precision    recall  f1-score   support\n\n           0       0.96      0.90      0.93      2182\n           1       0.67      0.84      0.74       544\n\n    accuracy                           0.89      2726\n   macro avg       0.81      0.87      0.84      2726\nweighted avg       0.90      0.89      0.89      2726\n\n------------------------------------\n------------------------------------\nThis is the result from Undersampling method\naccuracy: 0.884\n              precision    recall  f1-score   support\n\n           0       0.96      0.89      0.92      2182\n           1       0.66      0.84      0.74       544\n\n    accuracy                           0.88      2726\n   macro avg       0.81      0.87      0.83      2726\nweighted avg       0.90      0.88      0.89      2726\n\n------------------------------------\n------------------------------------\nThis is the result from SMOTE method\naccuracy: 0.884\n              precision    recall  f1-score   support\n\n           0       0.96      0.89      0.93      2182\n           1       0.67      0.84      0.74       544\n\n    accuracy                           0.88      2726\n   macro avg       0.81      0.87      0.83      2726\nweighted avg       0.90      0.88      0.89      2726\n\n------------------------------------\n------------------------------------\n"
     ]
    }
   ],
   "source": [
    "# Run Logistic Regression Loop \n",
    "\n",
    "lr = LogisticRegression(solver='lbfgs',max_iter=100)\n",
    "\n",
    "for session in range(len(X_train_sets)):\n",
    "\n",
    "    lr.fit(X_train_sets[session], y_train_sets[session])\n",
    "    y_pred = lr.predict(X_test_scaled)\n",
    "\n",
    "    print(f'This is the result from {session_names[session]} method')\n",
    "    print(f'accuracy: {accuracy_score(y_test, y_pred):.3f}')\n",
    "    # confusion_matrix = confusion_matrix(y_test, y_pred)\n",
    "    # print(confusion_matrix)\n",
    "    print(classification_report(y_test, y_pred))\n",
    "    print('------------------------------------')\n",
    "    print('------------------------------------')\n",
    "\n"
   ]
  },
  {
   "cell_type": "markdown",
   "metadata": {},
   "source": [
    "### Naive Bayes Classification Modeling"
   ]
  },
  {
   "cell_type": "code",
   "execution_count": 59,
   "metadata": {},
   "outputs": [
    {
     "output_type": "stream",
     "name": "stdout",
     "text": [
      "This is the result from Imbalanced method\naccuracy: 0.901\n              precision    recall  f1-score   support\n\n           0       0.93      0.94      0.94      2182\n           1       0.76      0.73      0.75       544\n\n    accuracy                           0.90      2726\n   macro avg       0.85      0.84      0.84      2726\nweighted avg       0.90      0.90      0.90      2726\n\n------------------------------------\n------------------------------------\nThis is the result from Oversampling method\naccuracy: 0.895\n              precision    recall  f1-score   support\n\n           0       0.97      0.89      0.93      2182\n           1       0.68      0.91      0.77       544\n\n    accuracy                           0.89      2726\n   macro avg       0.83      0.90      0.85      2726\nweighted avg       0.91      0.89      0.90      2726\n\n------------------------------------\n------------------------------------\nThis is the result from Undersampling method\naccuracy: 0.888\n              precision    recall  f1-score   support\n\n           0       0.98      0.88      0.93      2182\n           1       0.66      0.93      0.77       544\n\n    accuracy                           0.89      2726\n   macro avg       0.82      0.90      0.85      2726\nweighted avg       0.92      0.89      0.89      2726\n\n------------------------------------\n------------------------------------\nThis is the result from SMOTE method\naccuracy: 0.891\n              precision    recall  f1-score   support\n\n           0       0.98      0.89      0.93      2182\n           1       0.67      0.91      0.77       544\n\n    accuracy                           0.89      2726\n   macro avg       0.82      0.90      0.85      2726\nweighted avg       0.91      0.89      0.90      2726\n\n------------------------------------\n------------------------------------\n"
     ]
    }
   ],
   "source": [
    "# Run  NB Gaussian Loop\n",
    "\n",
    "from sklearn.naive_bayes import GaussianNB\n",
    "\n",
    "mnb = GaussianNB()\n",
    "\n",
    "for session in range(len(X_train_sets)):\n",
    "\n",
    "    mnb.fit(X_train_sets[session], y_train_sets[session])\n",
    "    y_pred = mnb.predict(X_test_scaled)\n",
    "\n",
    "    print(f'This is the result from {session_names[session]} method')\n",
    "    print(f'accuracy: {accuracy_score(y_test, y_pred):.3f}')\n",
    "    # confusion_matrix = confusion_matrix(y_test, y_pred)\n",
    "    # print(confusion_matrix)\n",
    "    print(classification_report(y_test, y_pred))\n",
    "    print('------------------------------------')\n",
    "    print('------------------------------------')\n"
   ]
  },
  {
   "cell_type": "markdown",
   "metadata": {},
   "source": [
    "### Support Vector Machine"
   ]
  },
  {
   "cell_type": "code",
   "execution_count": 60,
   "metadata": {},
   "outputs": [],
   "source": [
    "# # Run  NB Gaussian Loop\n",
    "# from sklearn.svm import SVC\n",
    "\n",
    "# svm = SVC(kernel='linear') # other kernels : linear, rbf, sigmoid , Larger C more penalty for wrong classification\n",
    "\n",
    "# for session in range(len(X_train_sets)):\n",
    "\n",
    "#     svm.fit(X_train_sets[session], y_train_sets[session])\n",
    "#     y_pred = svm.predict(X_test_scaled)\n",
    "\n",
    "#     print(f'This is the result from {session_names[session]} method')\n",
    "#     print(f'accuracy: {accuracy_score(y_test, y_pred):.3f}')\n",
    "#     # confusion_matrix = confusion_matrix(y_test, y_pred)\n",
    "#     # print(confusion_matrix)\n",
    "#     print(classification_report(y_test, y_pred))\n",
    "#     print('------------------------------------')\n",
    "#     print('------------------------------------')\n",
    "\n",
    "\n"
   ]
  },
  {
   "cell_type": "markdown",
   "metadata": {},
   "source": [
    "### Decision Tree Algorithm"
   ]
  },
  {
   "cell_type": "code",
   "execution_count": 61,
   "metadata": {},
   "outputs": [
    {
     "output_type": "stream",
     "name": "stdout",
     "text": [
      "This is the result from Imbalanced method\naccuracy: 0.931\n              precision    recall  f1-score   support\n\n           0       0.96      0.96      0.96      2182\n           1       0.82      0.83      0.83       544\n\n    accuracy                           0.93      2726\n   macro avg       0.89      0.89      0.89      2726\nweighted avg       0.93      0.93      0.93      2726\n\n------------------------------------\n------------------------------------\nThis is the result from Oversampling method\naccuracy: 0.933\n              precision    recall  f1-score   support\n\n           0       0.96      0.96      0.96      2182\n           1       0.83      0.83      0.83       544\n\n    accuracy                           0.93      2726\n   macro avg       0.90      0.90      0.90      2726\nweighted avg       0.93      0.93      0.93      2726\n\n------------------------------------\n------------------------------------\nThis is the result from Undersampling method\naccuracy: 0.916\n              precision    recall  f1-score   support\n\n           0       0.98      0.92      0.95      2182\n           1       0.73      0.92      0.81       544\n\n    accuracy                           0.92      2726\n   macro avg       0.85      0.92      0.88      2726\nweighted avg       0.93      0.92      0.92      2726\n\n------------------------------------\n------------------------------------\nThis is the result from SMOTE method\naccuracy: 0.929\n              precision    recall  f1-score   support\n\n           0       0.96      0.95      0.96      2182\n           1       0.81      0.83      0.82       544\n\n    accuracy                           0.93      2726\n   macro avg       0.89      0.89      0.89      2726\nweighted avg       0.93      0.93      0.93      2726\n\n------------------------------------\n------------------------------------\n"
     ]
    }
   ],
   "source": [
    "# Run Decision Tree Loop \n",
    "\n",
    "from sklearn.tree import DecisionTreeClassifier\n",
    "\n",
    "dtc = DecisionTreeClassifier()\n",
    "\n",
    "for session in range(len(X_train_sets)):\n",
    "    dtc.fit(X_train_sets[session],y_train_sets[session])\n",
    "    y_pred = dtc.predict(X_test_scaled)\n",
    "\n",
    "    print(f'This is the result from {session_names[session]} method')\n",
    "    print(f'accuracy: {accuracy_score(y_test, y_pred):.3f}')\n",
    "    # confusion_matrix = confusion_matrix(y_test, y_pred)\n",
    "    # print(confusion_matrix)\n",
    "    print(classification_report(y_test, y_pred))\n",
    "    print('------------------------------------')\n",
    "    print('------------------------------------')\n"
   ]
  },
  {
   "source": [
    "### Random Forest Classifier"
   ],
   "cell_type": "markdown",
   "metadata": {}
  },
  {
   "cell_type": "code",
   "execution_count": 62,
   "metadata": {},
   "outputs": [
    {
     "output_type": "stream",
     "name": "stdout",
     "text": [
      "This is the result from Imbalanced method\n",
      "accuracy: 0.953\n",
      "              precision    recall  f1-score   support\n",
      "\n",
      "           0       0.98      0.96      0.97      2182\n",
      "           1       0.86      0.91      0.89       544\n",
      "\n",
      "    accuracy                           0.95      2726\n",
      "   macro avg       0.92      0.94      0.93      2726\n",
      "weighted avg       0.95      0.95      0.95      2726\n",
      "\n",
      "The importances of the features are as follows:\n",
      "[(0.6983397562941086, 'Emp_Length'), (0.22740102594620265, 'Credit_Score'), (0.05615346154870566, 'Debt_income_ratio'), (0.01810575621098314, 'Loan_Amount')]\n",
      "------------------------------------\n",
      "------------------------------------\n",
      "This is the result from Oversampling method\n",
      "accuracy: 0.951\n",
      "              precision    recall  f1-score   support\n",
      "\n",
      "           0       0.98      0.96      0.97      2182\n",
      "           1       0.85      0.92      0.88       544\n",
      "\n",
      "    accuracy                           0.95      2726\n",
      "   macro avg       0.91      0.94      0.93      2726\n",
      "weighted avg       0.95      0.95      0.95      2726\n",
      "\n",
      "The importances of the features are as follows:\n",
      "[(0.5114806499226143, 'Credit_Score'), (0.38069135783153807, 'Emp_Length'), (0.09827252628368413, 'Debt_income_ratio'), (0.009555465962163433, 'Loan_Amount')]\n",
      "------------------------------------\n",
      "------------------------------------\n",
      "This is the result from Undersampling method\n",
      "accuracy: 0.951\n",
      "              precision    recall  f1-score   support\n",
      "\n",
      "           0       0.98      0.96      0.97      2182\n",
      "           1       0.85      0.92      0.88       544\n",
      "\n",
      "    accuracy                           0.95      2726\n",
      "   macro avg       0.91      0.94      0.93      2726\n",
      "weighted avg       0.95      0.95      0.95      2726\n",
      "\n",
      "The importances of the features are as follows:\n",
      "[(0.6677579616830073, 'Emp_Length'), (0.2720130058336338, 'Credit_Score'), (0.04827254427541393, 'Debt_income_ratio'), (0.011956488207945103, 'Loan_Amount')]\n",
      "------------------------------------\n",
      "------------------------------------\n",
      "This is the result from SMOTE method\n",
      "accuracy: 0.953\n",
      "              precision    recall  f1-score   support\n",
      "\n",
      "           0       0.98      0.96      0.97      2182\n",
      "           1       0.86      0.92      0.89       544\n",
      "\n",
      "    accuracy                           0.95      2726\n",
      "   macro avg       0.92      0.94      0.93      2726\n",
      "weighted avg       0.95      0.95      0.95      2726\n",
      "\n",
      "The importances of the features are as follows:\n",
      "[(0.7252309538039079, 'Emp_Length'), (0.20340234645153937, 'Credit_Score'), (0.05744885649505259, 'Debt_income_ratio'), (0.013917843249500165, 'Loan_Amount')]\n",
      "------------------------------------\n",
      "------------------------------------\n"
     ]
    }
   ],
   "source": [
    "\n",
    "from sklearn.ensemble import RandomForestClassifier\n",
    "rfc = RandomForestClassifier(n_estimators=10, max_depth = 5)\n",
    "\n",
    "for session in range(len(X_train_sets)):\n",
    "    rfc.fit(X_train_sets[session],y_train_sets[session])\n",
    "    y_pred = rfc.predict(X_test_scaled)\n",
    "\n",
    "    print(f'This is the result from {session_names[session]} method')\n",
    "    print(f'accuracy: {accuracy_score(y_test, y_pred):.3f}')\n",
    "    # confusion_matrix = confusion_matrix(y_test, y_pred)\n",
    "    # print(confusion_matrix)\n",
    "    print(classification_report(y_test, y_pred))\n",
    "    importances = rfc.feature_importances_\n",
    "    print(f'The importances of the features are as follows:')\n",
    "    print(list(sorted(zip(importances, X.columns), reverse=True)))\n",
    "    print('------------------------------------')\n",
    "    print('------------------------------------')"
   ]
  },
  {
   "source": [
    "### Decision Tree with ADABOOST"
   ],
   "cell_type": "markdown",
   "metadata": {}
  },
  {
   "cell_type": "code",
   "execution_count": 63,
   "metadata": {},
   "outputs": [
    {
     "output_type": "stream",
     "name": "stdout",
     "text": [
      "This is the result from Imbalanced method\n",
      "accuracy: 0.957\n",
      "              precision    recall  f1-score   support\n",
      "\n",
      "           0       0.98      0.97      0.97      2182\n",
      "           1       0.87      0.93      0.90       544\n",
      "\n",
      "    accuracy                           0.96      2726\n",
      "   macro avg       0.93      0.95      0.93      2726\n",
      "weighted avg       0.96      0.96      0.96      2726\n",
      "\n",
      "------------------------------------\n",
      "------------------------------------\n",
      "This is the result from Oversampling method\n",
      "accuracy: 0.956\n",
      "              precision    recall  f1-score   support\n",
      "\n",
      "           0       0.98      0.96      0.97      2182\n",
      "           1       0.85      0.94      0.90       544\n",
      "\n",
      "    accuracy                           0.96      2726\n",
      "   macro avg       0.92      0.95      0.93      2726\n",
      "weighted avg       0.96      0.96      0.96      2726\n",
      "\n",
      "------------------------------------\n",
      "------------------------------------\n",
      "This is the result from Undersampling method\n",
      "accuracy: 0.945\n",
      "              precision    recall  f1-score   support\n",
      "\n",
      "           0       0.98      0.95      0.97      2182\n",
      "           1       0.82      0.93      0.87       544\n",
      "\n",
      "    accuracy                           0.95      2726\n",
      "   macro avg       0.90      0.94      0.92      2726\n",
      "weighted avg       0.95      0.95      0.95      2726\n",
      "\n",
      "------------------------------------\n",
      "------------------------------------\n",
      "This is the result from SMOTE method\n",
      "accuracy: 0.946\n",
      "              precision    recall  f1-score   support\n",
      "\n",
      "           0       0.98      0.96      0.97      2182\n",
      "           1       0.84      0.91      0.87       544\n",
      "\n",
      "    accuracy                           0.95      2726\n",
      "   macro avg       0.91      0.93      0.92      2726\n",
      "weighted avg       0.95      0.95      0.95      2726\n",
      "\n",
      "------------------------------------\n",
      "------------------------------------\n"
     ]
    }
   ],
   "source": [
    "\n",
    "from sklearn.ensemble import GradientBoostingClassifier\n",
    "gbc = GradientBoostingClassifier(n_estimators=10,learning_rate=0.5,max_depth=5)\n",
    "\n",
    "for session in range(len(X_train_sets)):\n",
    "    gbc.fit(X_train_sets[session],y_train_sets[session])\n",
    "    y_pred = gbc.predict(X_test_scaled)\n",
    "    print(f'This is the result from {session_names[session]} method')\n",
    "    print(f'accuracy: {accuracy_score(y_test, y_pred):.3f}')\n",
    "    # confusion_matrix = confusion_matrix(y_test, y_pred)\n",
    "    # print(confusion_matrix)\n",
    "    print(classification_report(y_test, y_pred))\n",
    "    print('------------------------------------')\n",
    "    print('------------------------------------')"
   ]
  },
  {
   "source": [
    "# Analysis 2. Model to predict interest rates"
   ],
   "cell_type": "markdown",
   "metadata": {}
  },
  {
   "cell_type": "code",
   "execution_count": 64,
   "metadata": {},
   "outputs": [
    {
     "output_type": "execute_result",
     "data": {
      "text/plain": [
       "Index(['loan_amnt', 'funded_amnt', 'funded_amnt_inv', 'term', 'int_rate',\n",
       "       'installment', 'grade', 'sub_grade', 'emp_title', 'emp_length',\n",
       "       'home_ownership', 'annual_inc', 'verification_status', 'issue_d',\n",
       "       'loan_status', 'pymnt_plan', 'purpose', 'title', 'dti',\n",
       "       'earliest_cr_line', 'fico_range_low', 'fico_range_high',\n",
       "       'mths_since_last_delinq', 'open_acc', 'revol_bal', 'revol_util',\n",
       "       'total_acc', 'initial_list_status', 'total_pymnt', 'total_pymnt_inv',\n",
       "       'total_rec_prncp', 'total_rec_int', 'last_fico_range_high',\n",
       "       'last_fico_range_low', 'application_type', 'tot_cur_bal', 'open_acc_6m',\n",
       "       'open_act_il', 'open_il_24m', 'mths_since_rcnt_il', 'total_bal_il',\n",
       "       'il_util', 'open_rv_12m', 'open_rv_24m', 'max_bal_bc', 'all_util',\n",
       "       'total_rev_hi_lim', 'inq_last_12m', 'acc_open_past_24mths',\n",
       "       'avg_cur_bal', 'bc_open_to_buy', 'bc_util', 'mo_sin_old_il_acct',\n",
       "       'mo_sin_old_rev_tl_op', 'mo_sin_rcnt_rev_tl_op', 'mo_sin_rcnt_tl',\n",
       "       'mths_since_recent_bc', 'mths_since_recent_inq',\n",
       "       'mths_since_recent_revol_delinq', 'num_actv_bc_tl', 'num_actv_rev_tl',\n",
       "       'num_bc_sats', 'num_bc_tl', 'num_il_tl', 'num_op_rev_tl',\n",
       "       'num_rev_accts', 'num_rev_tl_bal_gt_0', 'num_sats',\n",
       "       'num_tl_op_past_12m', 'pct_tl_nvr_dlq', 'percent_bc_gt_75',\n",
       "       'tot_hi_cred_lim', 'total_bal_ex_mort', 'total_bc_limit',\n",
       "       'total_il_high_credit_limit', 'hardship_flag', 'disbursement_method',\n",
       "       'debt_settlement_flag'],\n",
       "      dtype='object')"
      ]
     },
     "metadata": {},
     "execution_count": 64
    }
   ],
   "source": [
    "# Remove data where the columns which have more than 30% nulls values or more than 30% zeros\n",
    "\n",
    "accepted_clean = raw_accepted.dropna(how='any', axis=1, thresh=file_accepted.shape[0]*0.3)\n",
    "\n",
    "drop_cols = accepted_clean.columns[(accepted_clean == 0).sum() >0.3*accepted_clean.shape[0]]\n",
    "\n",
    "accepted_clean = accepted_clean.drop(columns=drop_cols, axis=1)\n",
    "\n",
    "# Drop additonal columns that do not have loan specific information\n",
    "\n",
    "accepted_clean = accepted_clean.drop(columns=['id', 'url', 'zip_code','addr_state','last_pymnt_d','last_pymnt_amnt', 'next_pymnt_d', 'last_credit_pull_d', 'policy_code',])\n",
    "\n",
    "accepted_clean.columns"
   ]
  },
  {
   "cell_type": "code",
   "execution_count": 65,
   "metadata": {},
   "outputs": [
    {
     "output_type": "execute_result",
     "data": {
      "text/plain": [
       "                        LoanStatNew  \\\n",
       "1              acc_open_past_24mths   \n",
       "3                          all_util   \n",
       "4                        annual_inc   \n",
       "6                  application_type   \n",
       "7                       avg_cur_bal   \n",
       "8                    bc_open_to_buy   \n",
       "9                           bc_util   \n",
       "16                              dti   \n",
       "18                 earliest_cr_line   \n",
       "19                       emp_length   \n",
       "20                        emp_title   \n",
       "21                  fico_range_high   \n",
       "22                   fico_range_low   \n",
       "23                      funded_amnt   \n",
       "24                  funded_amnt_inv   \n",
       "25                            grade   \n",
       "26                   home_ownership   \n",
       "28                          il_util   \n",
       "29              initial_list_status   \n",
       "31                     inq_last_12m   \n",
       "33                      installment   \n",
       "34                         int_rate   \n",
       "35                          issue_d   \n",
       "37             last_fico_range_high   \n",
       "38              last_fico_range_low   \n",
       "41                        loan_amnt   \n",
       "42                      loan_status   \n",
       "43                       max_bal_bc   \n",
       "45               mo_sin_old_il_acct   \n",
       "46             mo_sin_old_rev_tl_op   \n",
       "47            mo_sin_rcnt_rev_tl_op   \n",
       "48                   mo_sin_rcnt_tl   \n",
       "50           mths_since_last_delinq   \n",
       "53               mths_since_rcnt_il   \n",
       "54             mths_since_recent_bc   \n",
       "56            mths_since_recent_inq   \n",
       "57   mths_since_recent_revol_delinq   \n",
       "60                   num_actv_bc_tl   \n",
       "61                  num_actv_rev_tl   \n",
       "62                      num_bc_sats   \n",
       "63                        num_bc_tl   \n",
       "64                        num_il_tl   \n",
       "65                    num_op_rev_tl   \n",
       "66                    num_rev_accts   \n",
       "67              num_rev_tl_bal_gt_0   \n",
       "68                         num_sats   \n",
       "72               num_tl_op_past_12m   \n",
       "73                         open_acc   \n",
       "74                      open_acc_6m   \n",
       "76                      open_il_24m   \n",
       "77                      open_act_il   \n",
       "78                      open_rv_12m   \n",
       "79                      open_rv_24m   \n",
       "82                   pct_tl_nvr_dlq   \n",
       "83                 percent_bc_gt_75   \n",
       "87                          purpose   \n",
       "88                       pymnt_plan   \n",
       "90                        revol_bal   \n",
       "91                       revol_util   \n",
       "92                        sub_grade   \n",
       "94                             term   \n",
       "95                            title   \n",
       "97                      tot_cur_bal   \n",
       "98                  tot_hi_cred_lim   \n",
       "99                        total_acc   \n",
       "100               total_bal_ex_mort   \n",
       "101                    total_bal_il   \n",
       "102                  total_bc_limit   \n",
       "104      total_il_high_credit_limit   \n",
       "105                     total_pymnt   \n",
       "106                 total_pymnt_inv   \n",
       "107                   total_rec_int   \n",
       "109                 total_rec_prncp   \n",
       "112             verification_status   \n",
       "128                   hardship_flag   \n",
       "143             disbursement_method   \n",
       "144            debt_settlement_flag   \n",
       "\n",
       "                                           Description  \n",
       "1           Number of trades opened in past 24 months.  \n",
       "3                Balance to credit limit on all trades  \n",
       "4    The self-reported annual income provided by th...  \n",
       "6    Indicates whether the loan is an individual ap...  \n",
       "7              Average current balance of all accounts  \n",
       "8            Total open to buy on revolving bankcards.  \n",
       "9    Ratio of total current balance to high credit/...  \n",
       "16   A ratio calculated using the borrower�s total ...  \n",
       "18   The month the borrower's earliest reported cre...  \n",
       "19   Employment length in years. Possible values ar...  \n",
       "20   The job title supplied by the Borrower when ap...  \n",
       "21   The upper boundary range the borrower�s FICO a...  \n",
       "22   The lower boundary range the borrower�s FICO a...  \n",
       "23   The total amount committed to that loan at tha...  \n",
       "24   The total amount committed by investors for th...  \n",
       "25                              LC assigned loan grade  \n",
       "26   The home ownership status provided by the borr...  \n",
       "28   Ratio of total current balance to high credit/...  \n",
       "29   The initial listing status of the loan. Possib...  \n",
       "31        Number of credit inquiries in past 12 months  \n",
       "33   The monthly payment owed by the borrower if th...  \n",
       "34                           Interest Rate on the loan  \n",
       "35                 The month which the loan was funded  \n",
       "37   The upper boundary range the borrower�s last F...  \n",
       "38   The lower boundary range the borrower�s last F...  \n",
       "41   The listed amount of the loan applied for by t...  \n",
       "42                          Current status of the loan  \n",
       "43   Maximum current balance owed on all revolving ...  \n",
       "45   Months since oldest bank installment account o...  \n",
       "46        Months since oldest revolving account opened  \n",
       "47   Months since most recent revolving account opened  \n",
       "48             Months since most recent account opened  \n",
       "50   The number of months since the borrower's last...  \n",
       "53   Months since most recent installment accounts ...  \n",
       "54   Months since most recent bankcard account opened.  \n",
       "56                   Months since most recent inquiry.  \n",
       "57     Months since most recent revolving delinquency.  \n",
       "60        Number of currently active bankcard accounts  \n",
       "61         Number of currently active revolving trades  \n",
       "62            Number of satisfactory bankcard accounts  \n",
       "63                         Number of bankcard accounts  \n",
       "64                      Number of installment accounts  \n",
       "65                   Number of open revolving accounts  \n",
       "66                        Number of revolving accounts  \n",
       "67          Number of revolving trades with balance >0  \n",
       "68                     Number of satisfactory accounts  \n",
       "72         Number of accounts opened in past 12 months  \n",
       "73   The number of open credit lines in the borrowe...  \n",
       "74              Number of open trades in last 6 months  \n",
       "76   Number of installment accounts opened in past ...  \n",
       "77       Number of currently active installment trades  \n",
       "78   Number of revolving trades opened in past 12 m...  \n",
       "79   Number of revolving trades opened in past 24 m...  \n",
       "82                  Percent of trades never delinquent  \n",
       "83   Percentage of all bankcard accounts > 75% of l...  \n",
       "87   A category provided by the borrower for the lo...  \n",
       "88   Indicates if a payment plan has been put in pl...  \n",
       "90                      Total credit revolving balance  \n",
       "91   Revolving line utilization rate, or the amount...  \n",
       "92                           LC assigned loan subgrade  \n",
       "94   The number of payments on the loan. Values are...  \n",
       "95             The loan title provided by the borrower  \n",
       "97               Total current balance of all accounts  \n",
       "98                      Total high credit/credit limit  \n",
       "99   The total number of credit lines currently in ...  \n",
       "100            Total credit balance excluding mortgage  \n",
       "101  Total current balance of all installment accounts  \n",
       "102            Total bankcard high credit/credit limit  \n",
       "104         Total installment high credit/credit limit  \n",
       "105  Payments received to date for total amount funded  \n",
       "106  Payments received to date for portion of total...  \n",
       "107                          Interest received to date  \n",
       "109                         Principal received to date  \n",
       "112  Indicates if income was verified by LC, not ve...  \n",
       "128  Flags whether or not the borrower is on a hard...  \n",
       "143  The method by which the borrower receives thei...  \n",
       "144  Flags whether or not the borrower, who has cha...  "
      ],
      "text/html": "<div>\n<style scoped>\n    .dataframe tbody tr th:only-of-type {\n        vertical-align: middle;\n    }\n\n    .dataframe tbody tr th {\n        vertical-align: top;\n    }\n\n    .dataframe thead th {\n        text-align: right;\n    }\n</style>\n<table border=\"1\" class=\"dataframe\">\n  <thead>\n    <tr style=\"text-align: right;\">\n      <th></th>\n      <th>LoanStatNew</th>\n      <th>Description</th>\n    </tr>\n  </thead>\n  <tbody>\n    <tr>\n      <th>1</th>\n      <td>acc_open_past_24mths</td>\n      <td>Number of trades opened in past 24 months.</td>\n    </tr>\n    <tr>\n      <th>3</th>\n      <td>all_util</td>\n      <td>Balance to credit limit on all trades</td>\n    </tr>\n    <tr>\n      <th>4</th>\n      <td>annual_inc</td>\n      <td>The self-reported annual income provided by th...</td>\n    </tr>\n    <tr>\n      <th>6</th>\n      <td>application_type</td>\n      <td>Indicates whether the loan is an individual ap...</td>\n    </tr>\n    <tr>\n      <th>7</th>\n      <td>avg_cur_bal</td>\n      <td>Average current balance of all accounts</td>\n    </tr>\n    <tr>\n      <th>8</th>\n      <td>bc_open_to_buy</td>\n      <td>Total open to buy on revolving bankcards.</td>\n    </tr>\n    <tr>\n      <th>9</th>\n      <td>bc_util</td>\n      <td>Ratio of total current balance to high credit/...</td>\n    </tr>\n    <tr>\n      <th>16</th>\n      <td>dti</td>\n      <td>A ratio calculated using the borrower�s total ...</td>\n    </tr>\n    <tr>\n      <th>18</th>\n      <td>earliest_cr_line</td>\n      <td>The month the borrower's earliest reported cre...</td>\n    </tr>\n    <tr>\n      <th>19</th>\n      <td>emp_length</td>\n      <td>Employment length in years. Possible values ar...</td>\n    </tr>\n    <tr>\n      <th>20</th>\n      <td>emp_title</td>\n      <td>The job title supplied by the Borrower when ap...</td>\n    </tr>\n    <tr>\n      <th>21</th>\n      <td>fico_range_high</td>\n      <td>The upper boundary range the borrower�s FICO a...</td>\n    </tr>\n    <tr>\n      <th>22</th>\n      <td>fico_range_low</td>\n      <td>The lower boundary range the borrower�s FICO a...</td>\n    </tr>\n    <tr>\n      <th>23</th>\n      <td>funded_amnt</td>\n      <td>The total amount committed to that loan at tha...</td>\n    </tr>\n    <tr>\n      <th>24</th>\n      <td>funded_amnt_inv</td>\n      <td>The total amount committed by investors for th...</td>\n    </tr>\n    <tr>\n      <th>25</th>\n      <td>grade</td>\n      <td>LC assigned loan grade</td>\n    </tr>\n    <tr>\n      <th>26</th>\n      <td>home_ownership</td>\n      <td>The home ownership status provided by the borr...</td>\n    </tr>\n    <tr>\n      <th>28</th>\n      <td>il_util</td>\n      <td>Ratio of total current balance to high credit/...</td>\n    </tr>\n    <tr>\n      <th>29</th>\n      <td>initial_list_status</td>\n      <td>The initial listing status of the loan. Possib...</td>\n    </tr>\n    <tr>\n      <th>31</th>\n      <td>inq_last_12m</td>\n      <td>Number of credit inquiries in past 12 months</td>\n    </tr>\n    <tr>\n      <th>33</th>\n      <td>installment</td>\n      <td>The monthly payment owed by the borrower if th...</td>\n    </tr>\n    <tr>\n      <th>34</th>\n      <td>int_rate</td>\n      <td>Interest Rate on the loan</td>\n    </tr>\n    <tr>\n      <th>35</th>\n      <td>issue_d</td>\n      <td>The month which the loan was funded</td>\n    </tr>\n    <tr>\n      <th>37</th>\n      <td>last_fico_range_high</td>\n      <td>The upper boundary range the borrower�s last F...</td>\n    </tr>\n    <tr>\n      <th>38</th>\n      <td>last_fico_range_low</td>\n      <td>The lower boundary range the borrower�s last F...</td>\n    </tr>\n    <tr>\n      <th>41</th>\n      <td>loan_amnt</td>\n      <td>The listed amount of the loan applied for by t...</td>\n    </tr>\n    <tr>\n      <th>42</th>\n      <td>loan_status</td>\n      <td>Current status of the loan</td>\n    </tr>\n    <tr>\n      <th>43</th>\n      <td>max_bal_bc</td>\n      <td>Maximum current balance owed on all revolving ...</td>\n    </tr>\n    <tr>\n      <th>45</th>\n      <td>mo_sin_old_il_acct</td>\n      <td>Months since oldest bank installment account o...</td>\n    </tr>\n    <tr>\n      <th>46</th>\n      <td>mo_sin_old_rev_tl_op</td>\n      <td>Months since oldest revolving account opened</td>\n    </tr>\n    <tr>\n      <th>47</th>\n      <td>mo_sin_rcnt_rev_tl_op</td>\n      <td>Months since most recent revolving account opened</td>\n    </tr>\n    <tr>\n      <th>48</th>\n      <td>mo_sin_rcnt_tl</td>\n      <td>Months since most recent account opened</td>\n    </tr>\n    <tr>\n      <th>50</th>\n      <td>mths_since_last_delinq</td>\n      <td>The number of months since the borrower's last...</td>\n    </tr>\n    <tr>\n      <th>53</th>\n      <td>mths_since_rcnt_il</td>\n      <td>Months since most recent installment accounts ...</td>\n    </tr>\n    <tr>\n      <th>54</th>\n      <td>mths_since_recent_bc</td>\n      <td>Months since most recent bankcard account opened.</td>\n    </tr>\n    <tr>\n      <th>56</th>\n      <td>mths_since_recent_inq</td>\n      <td>Months since most recent inquiry.</td>\n    </tr>\n    <tr>\n      <th>57</th>\n      <td>mths_since_recent_revol_delinq</td>\n      <td>Months since most recent revolving delinquency.</td>\n    </tr>\n    <tr>\n      <th>60</th>\n      <td>num_actv_bc_tl</td>\n      <td>Number of currently active bankcard accounts</td>\n    </tr>\n    <tr>\n      <th>61</th>\n      <td>num_actv_rev_tl</td>\n      <td>Number of currently active revolving trades</td>\n    </tr>\n    <tr>\n      <th>62</th>\n      <td>num_bc_sats</td>\n      <td>Number of satisfactory bankcard accounts</td>\n    </tr>\n    <tr>\n      <th>63</th>\n      <td>num_bc_tl</td>\n      <td>Number of bankcard accounts</td>\n    </tr>\n    <tr>\n      <th>64</th>\n      <td>num_il_tl</td>\n      <td>Number of installment accounts</td>\n    </tr>\n    <tr>\n      <th>65</th>\n      <td>num_op_rev_tl</td>\n      <td>Number of open revolving accounts</td>\n    </tr>\n    <tr>\n      <th>66</th>\n      <td>num_rev_accts</td>\n      <td>Number of revolving accounts</td>\n    </tr>\n    <tr>\n      <th>67</th>\n      <td>num_rev_tl_bal_gt_0</td>\n      <td>Number of revolving trades with balance &gt;0</td>\n    </tr>\n    <tr>\n      <th>68</th>\n      <td>num_sats</td>\n      <td>Number of satisfactory accounts</td>\n    </tr>\n    <tr>\n      <th>72</th>\n      <td>num_tl_op_past_12m</td>\n      <td>Number of accounts opened in past 12 months</td>\n    </tr>\n    <tr>\n      <th>73</th>\n      <td>open_acc</td>\n      <td>The number of open credit lines in the borrowe...</td>\n    </tr>\n    <tr>\n      <th>74</th>\n      <td>open_acc_6m</td>\n      <td>Number of open trades in last 6 months</td>\n    </tr>\n    <tr>\n      <th>76</th>\n      <td>open_il_24m</td>\n      <td>Number of installment accounts opened in past ...</td>\n    </tr>\n    <tr>\n      <th>77</th>\n      <td>open_act_il</td>\n      <td>Number of currently active installment trades</td>\n    </tr>\n    <tr>\n      <th>78</th>\n      <td>open_rv_12m</td>\n      <td>Number of revolving trades opened in past 12 m...</td>\n    </tr>\n    <tr>\n      <th>79</th>\n      <td>open_rv_24m</td>\n      <td>Number of revolving trades opened in past 24 m...</td>\n    </tr>\n    <tr>\n      <th>82</th>\n      <td>pct_tl_nvr_dlq</td>\n      <td>Percent of trades never delinquent</td>\n    </tr>\n    <tr>\n      <th>83</th>\n      <td>percent_bc_gt_75</td>\n      <td>Percentage of all bankcard accounts &gt; 75% of l...</td>\n    </tr>\n    <tr>\n      <th>87</th>\n      <td>purpose</td>\n      <td>A category provided by the borrower for the lo...</td>\n    </tr>\n    <tr>\n      <th>88</th>\n      <td>pymnt_plan</td>\n      <td>Indicates if a payment plan has been put in pl...</td>\n    </tr>\n    <tr>\n      <th>90</th>\n      <td>revol_bal</td>\n      <td>Total credit revolving balance</td>\n    </tr>\n    <tr>\n      <th>91</th>\n      <td>revol_util</td>\n      <td>Revolving line utilization rate, or the amount...</td>\n    </tr>\n    <tr>\n      <th>92</th>\n      <td>sub_grade</td>\n      <td>LC assigned loan subgrade</td>\n    </tr>\n    <tr>\n      <th>94</th>\n      <td>term</td>\n      <td>The number of payments on the loan. Values are...</td>\n    </tr>\n    <tr>\n      <th>95</th>\n      <td>title</td>\n      <td>The loan title provided by the borrower</td>\n    </tr>\n    <tr>\n      <th>97</th>\n      <td>tot_cur_bal</td>\n      <td>Total current balance of all accounts</td>\n    </tr>\n    <tr>\n      <th>98</th>\n      <td>tot_hi_cred_lim</td>\n      <td>Total high credit/credit limit</td>\n    </tr>\n    <tr>\n      <th>99</th>\n      <td>total_acc</td>\n      <td>The total number of credit lines currently in ...</td>\n    </tr>\n    <tr>\n      <th>100</th>\n      <td>total_bal_ex_mort</td>\n      <td>Total credit balance excluding mortgage</td>\n    </tr>\n    <tr>\n      <th>101</th>\n      <td>total_bal_il</td>\n      <td>Total current balance of all installment accounts</td>\n    </tr>\n    <tr>\n      <th>102</th>\n      <td>total_bc_limit</td>\n      <td>Total bankcard high credit/credit limit</td>\n    </tr>\n    <tr>\n      <th>104</th>\n      <td>total_il_high_credit_limit</td>\n      <td>Total installment high credit/credit limit</td>\n    </tr>\n    <tr>\n      <th>105</th>\n      <td>total_pymnt</td>\n      <td>Payments received to date for total amount funded</td>\n    </tr>\n    <tr>\n      <th>106</th>\n      <td>total_pymnt_inv</td>\n      <td>Payments received to date for portion of total...</td>\n    </tr>\n    <tr>\n      <th>107</th>\n      <td>total_rec_int</td>\n      <td>Interest received to date</td>\n    </tr>\n    <tr>\n      <th>109</th>\n      <td>total_rec_prncp</td>\n      <td>Principal received to date</td>\n    </tr>\n    <tr>\n      <th>112</th>\n      <td>verification_status</td>\n      <td>Indicates if income was verified by LC, not ve...</td>\n    </tr>\n    <tr>\n      <th>128</th>\n      <td>hardship_flag</td>\n      <td>Flags whether or not the borrower is on a hard...</td>\n    </tr>\n    <tr>\n      <th>143</th>\n      <td>disbursement_method</td>\n      <td>The method by which the borrower receives thei...</td>\n    </tr>\n    <tr>\n      <th>144</th>\n      <td>debt_settlement_flag</td>\n      <td>Flags whether or not the borrower, who has cha...</td>\n    </tr>\n  </tbody>\n</table>\n</div>"
     },
     "metadata": {},
     "execution_count": 65
    }
   ],
   "source": [
    "# Import Data dictionary to explain features\n",
    "# dictionary = pd.read_csv('../Archive/dictionary.csv')\n",
    "# dictionary = dictionary[['LoanStatNew','Description']]\n",
    "# dictionary[dictionary['LoanStatNew'].apply(lambda x: x in accepted_clean.columns)]"
   ]
  },
  {
   "cell_type": "code",
   "execution_count": 66,
   "metadata": {},
   "outputs": [],
   "source": [
    "# Further removing columns that are not needed for interest prediction\n",
    "target_col = accepted_clean['int_rate']\n",
    "\n",
    "drop_cols = ['bc_open_to_buy','bc_util','earliest_cr_line', 'emp_title', 'funded_amnt', 'funded_amnt_inv', 'grade', 'initial_list_status', 'installment', 'int_rate', 'issue_d', 'last_fico_range_high', 'last_fico_range_low', 'loan_status', 'max_bal_bc', 'mo_sin_old_il_acct', 'mo_sin_old_rev_tl_op', 'mo_sin_rcnt_rev_tl_op', 'mths_since_last_delinq', 'mths_since_rcnt_il','mths_since_recent_bc', 'mths_since_recent_revol_delinq', 'mths_since_recent_revol_delinq', 'num_actv_bc_tl', 'num_actv_rev_tl', 'num_bc_sats', 'num_bc_tl', 'num_il_tl', 'num_op_rev_tl', 'num_rev_accts', 'num_rev_tl_bal_gt_0', 'open_il_24m', 'open_act_il', 'open_rv_12m', 'open_rv_24m', 'pct_tl_nvr_dlq', 'percent_bc_gt_75', 'purpose', 'pymnt_plan', 'sub_grade', 'term', 'title', 'total_bal_ex_mort', 'total_bal_il', 'total_bc_limit', 'total_il_high_credit_limit', 'total_pymnt', 'total_pymnt_inv', 'total_rec_int', 'total_rec_prncp', 'hardship_flag', 'disbursement_method', 'debt_settlement_flag']\n",
    "\n",
    "accepted_clean = accepted_clean.drop(columns=drop_cols, axis=1)\n",
    "#accepted_clean.to_csv('../Archive/clean_accepted_with_columns.csv', index=False)"
   ]
  },
  {
   "cell_type": "code",
   "execution_count": 67,
   "metadata": {},
   "outputs": [
    {
     "output_type": "execute_result",
     "data": {
      "text/plain": [
       "    loan_amnt emp_length home_ownership   annual_inc verification_status  \\\n",
       "0  3600.00000  10+ years       MORTGAGE  55000.00000        Not Verified   \n",
       "1 24700.00000  10+ years       MORTGAGE  65000.00000        Not Verified   \n",
       "2 20000.00000  10+ years       MORTGAGE  63000.00000        Not Verified   \n",
       "3 35000.00000  10+ years       MORTGAGE 110000.00000     Source Verified   \n",
       "4 10400.00000    3 years       MORTGAGE 104433.00000     Source Verified   \n",
       "\n",
       "       dti  fico_range_low  fico_range_high  open_acc   revol_bal  ...  \\\n",
       "0  5.91000       675.00000        679.00000   7.00000  2765.00000  ...   \n",
       "1 16.06000       715.00000        719.00000  22.00000 21470.00000  ...   \n",
       "2 10.78000       695.00000        699.00000   6.00000  7869.00000  ...   \n",
       "3 17.06000       785.00000        789.00000  13.00000  7802.00000  ...   \n",
       "4 25.37000       695.00000        699.00000  12.00000 21929.00000  ...   \n",
       "\n",
       "   all_util  total_rev_hi_lim inq_last_12m  acc_open_past_24mths  avg_cur_bal  \\\n",
       "0  34.00000        9300.00000      4.00000               4.00000  20701.00000   \n",
       "1  29.00000      111800.00000      6.00000               4.00000   9733.00000   \n",
       "2  65.00000       14000.00000      1.00000               6.00000  31617.00000   \n",
       "3  45.00000       67300.00000      0.00000               2.00000  23192.00000   \n",
       "4  78.00000       34000.00000      3.00000              10.00000  27644.00000   \n",
       "\n",
       "   mo_sin_rcnt_tl  mths_since_recent_inq  num_sats  num_tl_op_past_12m  \\\n",
       "0         3.00000                4.00000   7.00000             3.00000   \n",
       "1         2.00000                0.00000  22.00000             2.00000   \n",
       "2        14.00000               10.00000   6.00000             0.00000   \n",
       "3         2.00000                    NaN  13.00000             1.00000   \n",
       "4         4.00000                1.00000  12.00000             4.00000   \n",
       "\n",
       "   tot_hi_cred_lim  \n",
       "0     178050.00000  \n",
       "1     314017.00000  \n",
       "2     218418.00000  \n",
       "3     381215.00000  \n",
       "4     439570.00000  \n",
       "\n",
       "[5 rows x 26 columns]"
      ],
      "text/html": "<div>\n<style scoped>\n    .dataframe tbody tr th:only-of-type {\n        vertical-align: middle;\n    }\n\n    .dataframe tbody tr th {\n        vertical-align: top;\n    }\n\n    .dataframe thead th {\n        text-align: right;\n    }\n</style>\n<table border=\"1\" class=\"dataframe\">\n  <thead>\n    <tr style=\"text-align: right;\">\n      <th></th>\n      <th>loan_amnt</th>\n      <th>emp_length</th>\n      <th>home_ownership</th>\n      <th>annual_inc</th>\n      <th>verification_status</th>\n      <th>dti</th>\n      <th>fico_range_low</th>\n      <th>fico_range_high</th>\n      <th>open_acc</th>\n      <th>revol_bal</th>\n      <th>...</th>\n      <th>all_util</th>\n      <th>total_rev_hi_lim</th>\n      <th>inq_last_12m</th>\n      <th>acc_open_past_24mths</th>\n      <th>avg_cur_bal</th>\n      <th>mo_sin_rcnt_tl</th>\n      <th>mths_since_recent_inq</th>\n      <th>num_sats</th>\n      <th>num_tl_op_past_12m</th>\n      <th>tot_hi_cred_lim</th>\n    </tr>\n  </thead>\n  <tbody>\n    <tr>\n      <th>0</th>\n      <td>3600.00000</td>\n      <td>10+ years</td>\n      <td>MORTGAGE</td>\n      <td>55000.00000</td>\n      <td>Not Verified</td>\n      <td>5.91000</td>\n      <td>675.00000</td>\n      <td>679.00000</td>\n      <td>7.00000</td>\n      <td>2765.00000</td>\n      <td>...</td>\n      <td>34.00000</td>\n      <td>9300.00000</td>\n      <td>4.00000</td>\n      <td>4.00000</td>\n      <td>20701.00000</td>\n      <td>3.00000</td>\n      <td>4.00000</td>\n      <td>7.00000</td>\n      <td>3.00000</td>\n      <td>178050.00000</td>\n    </tr>\n    <tr>\n      <th>1</th>\n      <td>24700.00000</td>\n      <td>10+ years</td>\n      <td>MORTGAGE</td>\n      <td>65000.00000</td>\n      <td>Not Verified</td>\n      <td>16.06000</td>\n      <td>715.00000</td>\n      <td>719.00000</td>\n      <td>22.00000</td>\n      <td>21470.00000</td>\n      <td>...</td>\n      <td>29.00000</td>\n      <td>111800.00000</td>\n      <td>6.00000</td>\n      <td>4.00000</td>\n      <td>9733.00000</td>\n      <td>2.00000</td>\n      <td>0.00000</td>\n      <td>22.00000</td>\n      <td>2.00000</td>\n      <td>314017.00000</td>\n    </tr>\n    <tr>\n      <th>2</th>\n      <td>20000.00000</td>\n      <td>10+ years</td>\n      <td>MORTGAGE</td>\n      <td>63000.00000</td>\n      <td>Not Verified</td>\n      <td>10.78000</td>\n      <td>695.00000</td>\n      <td>699.00000</td>\n      <td>6.00000</td>\n      <td>7869.00000</td>\n      <td>...</td>\n      <td>65.00000</td>\n      <td>14000.00000</td>\n      <td>1.00000</td>\n      <td>6.00000</td>\n      <td>31617.00000</td>\n      <td>14.00000</td>\n      <td>10.00000</td>\n      <td>6.00000</td>\n      <td>0.00000</td>\n      <td>218418.00000</td>\n    </tr>\n    <tr>\n      <th>3</th>\n      <td>35000.00000</td>\n      <td>10+ years</td>\n      <td>MORTGAGE</td>\n      <td>110000.00000</td>\n      <td>Source Verified</td>\n      <td>17.06000</td>\n      <td>785.00000</td>\n      <td>789.00000</td>\n      <td>13.00000</td>\n      <td>7802.00000</td>\n      <td>...</td>\n      <td>45.00000</td>\n      <td>67300.00000</td>\n      <td>0.00000</td>\n      <td>2.00000</td>\n      <td>23192.00000</td>\n      <td>2.00000</td>\n      <td>NaN</td>\n      <td>13.00000</td>\n      <td>1.00000</td>\n      <td>381215.00000</td>\n    </tr>\n    <tr>\n      <th>4</th>\n      <td>10400.00000</td>\n      <td>3 years</td>\n      <td>MORTGAGE</td>\n      <td>104433.00000</td>\n      <td>Source Verified</td>\n      <td>25.37000</td>\n      <td>695.00000</td>\n      <td>699.00000</td>\n      <td>12.00000</td>\n      <td>21929.00000</td>\n      <td>...</td>\n      <td>78.00000</td>\n      <td>34000.00000</td>\n      <td>3.00000</td>\n      <td>10.00000</td>\n      <td>27644.00000</td>\n      <td>4.00000</td>\n      <td>1.00000</td>\n      <td>12.00000</td>\n      <td>4.00000</td>\n      <td>439570.00000</td>\n    </tr>\n  </tbody>\n</table>\n<p>5 rows × 26 columns</p>\n</div>"
     },
     "metadata": {},
     "execution_count": 67
    }
   ],
   "source": [
    "accepted_clean.head()"
   ]
  },
  {
   "cell_type": "code",
   "execution_count": 68,
   "metadata": {},
   "outputs": [
    {
     "output_type": "execute_result",
     "data": {
      "text/plain": [
       "loan_amnt                float64\n",
       "emp_length                object\n",
       "home_ownership            object\n",
       "annual_inc               float64\n",
       "verification_status       object\n",
       "dti                      float64\n",
       "fico_range_low           float64\n",
       "fico_range_high          float64\n",
       "open_acc                 float64\n",
       "revol_bal                float64\n",
       "revol_util               float64\n",
       "total_acc                float64\n",
       "application_type          object\n",
       "tot_cur_bal              float64\n",
       "open_acc_6m              float64\n",
       "il_util                  float64\n",
       "all_util                 float64\n",
       "total_rev_hi_lim         float64\n",
       "inq_last_12m             float64\n",
       "acc_open_past_24mths     float64\n",
       "avg_cur_bal              float64\n",
       "mo_sin_rcnt_tl           float64\n",
       "mths_since_recent_inq    float64\n",
       "num_sats                 float64\n",
       "num_tl_op_past_12m       float64\n",
       "tot_hi_cred_lim          float64\n",
       "dtype: object"
      ]
     },
     "metadata": {},
     "execution_count": 68
    }
   ],
   "source": [
    "accepted_clean.dtypes"
   ]
  },
  {
   "cell_type": "code",
   "execution_count": 75,
   "metadata": {},
   "outputs": [
    {
     "output_type": "execute_result",
     "data": {
      "text/plain": [
       "10.00000    748005\n",
       "2.00000     203677\n",
       "0.00000     189988\n",
       "3.00000     180753\n",
       "1.00000     148403\n",
       "5.00000     139698\n",
       "4.00000     136605\n",
       "6.00000     102628\n",
       "7.00000      92695\n",
       "8.00000      91914\n",
       "9.00000      79395\n",
       "Name: emp_length, dtype: int64"
      ]
     },
     "metadata": {},
     "execution_count": 75
    }
   ],
   "source": [
    "accepted_clean['emp_length'] = accepted_clean['emp_length'].replace('10+ years','10')\n",
    "accepted_clean['emp_length'] = accepted_clean['emp_length'].replace('< 1 year','0')\n",
    "accepted_clean['emp_length'] = accepted_clean['emp_length'].replace('1 year','1')\n",
    "accepted_clean['emp_length'] = accepted_clean['emp_length'].str.replace(' years','')\n",
    "accepted_clean['emp_length'] = accepted_clean['emp_length'].replace(' ','')\n",
    "accepted_clean['emp_length'] = pd.to_numeric(accepted_clean['emp_length'])\n",
    "accepted_clean['emp_length'].value_counts()"
   ]
  },
  {
   "cell_type": "code",
   "execution_count": 76,
   "metadata": {},
   "outputs": [
    {
     "output_type": "execute_result",
     "data": {
      "text/plain": [
       "Index(['loan_amnt', 'emp_length', 'annual_inc', 'dti', 'fico_range_low',\n",
       "       'fico_range_high', 'open_acc', 'revol_bal', 'revol_util', 'total_acc',\n",
       "       'tot_cur_bal', 'open_acc_6m', 'il_util', 'all_util', 'total_rev_hi_lim',\n",
       "       'inq_last_12m', 'acc_open_past_24mths', 'avg_cur_bal', 'mo_sin_rcnt_tl',\n",
       "       'mths_since_recent_inq', 'num_sats', 'num_tl_op_past_12m',\n",
       "       'tot_hi_cred_lim', 'home_ownership_ANY', 'home_ownership_MORTGAGE',\n",
       "       'home_ownership_NONE', 'home_ownership_OTHER', 'home_ownership_OWN',\n",
       "       'home_ownership_RENT', 'verification_status_Not Verified',\n",
       "       'verification_status_Source Verified', 'verification_status_Verified',\n",
       "       'application_type_Individual', 'application_type_Joint App'],\n",
       "      dtype='object')"
      ]
     },
     "metadata": {},
     "execution_count": 76
    }
   ],
   "source": [
    "accepted_clean = pd.get_dummies(accepted_clean)"
   ]
  },
  {
   "cell_type": "code",
   "execution_count": 88,
   "metadata": {},
   "outputs": [
    {
     "output_type": "stream",
     "name": "stdout",
     "text": [
      "<class 'pandas.core.frame.DataFrame'>\nRangeIndex: 2260701 entries, 0 to 2260700\nData columns (total 34 columns):\n #   Column                               Dtype  \n---  ------                               -----  \n 0   loan_amnt                            float64\n 1   emp_length                           float64\n 2   annual_inc                           float64\n 3   dti                                  float64\n 4   fico_range_low                       float64\n 5   fico_range_high                      float64\n 6   open_acc                             float64\n 7   revol_bal                            float64\n 8   revol_util                           float64\n 9   total_acc                            float64\n 10  tot_cur_bal                          float64\n 11  open_acc_6m                          float64\n 12  il_util                              float64\n 13  all_util                             float64\n 14  total_rev_hi_lim                     float64\n 15  inq_last_12m                         float64\n 16  acc_open_past_24mths                 float64\n 17  avg_cur_bal                          float64\n 18  mo_sin_rcnt_tl                       float64\n 19  mths_since_recent_inq                float64\n 20  num_sats                             float64\n 21  num_tl_op_past_12m                   float64\n 22  tot_hi_cred_lim                      float64\n 23  home_ownership_ANY                   uint8  \n 24  home_ownership_MORTGAGE              uint8  \n 25  home_ownership_NONE                  uint8  \n 26  home_ownership_OTHER                 uint8  \n 27  home_ownership_OWN                   uint8  \n 28  home_ownership_RENT                  uint8  \n 29  verification_status_Not Verified     uint8  \n 30  verification_status_Source Verified  uint8  \n 31  verification_status_Verified         uint8  \n 32  application_type_Individual          uint8  \n 33  application_type_Joint App           uint8  \ndtypes: float64(23), uint8(11)\nmemory usage: 420.4 MB\n"
     ]
    }
   ],
   "source": [
    "accepted_clean.info()"
   ]
  },
  {
   "cell_type": "code",
   "execution_count": 80,
   "metadata": {},
   "outputs": [],
   "source": [
    "# Split into test and train and preprocess the data\n",
    "X = accepted_clean.dropna()\n",
    "y = target_col.dropna()\n",
    "X_train, X_test, y_train, y_test = train_test_split(X,y, random_state=1)\n",
    "\n",
    "scaler = StandardScaler()\n",
    "scaler = scaler.fit(X_train)\n",
    "X_train_scaled = scaler.transform(X_train)\n",
    "X_test_scaled = scaler.transform(X_test)"
   ]
  },
  {
   "cell_type": "code",
   "execution_count": 92,
   "metadata": {},
   "outputs": [
    {
     "output_type": "stream",
     "name": "stdout",
     "text": [
      "Model: \"sequential\"\n_________________________________________________________________\nLayer (type)                 Output Shape              Param #   \n=================================================================\ndense (Dense)                (None, 20)                700       \n_________________________________________________________________\ndense_1 (Dense)              (None, 1)                 21        \n=================================================================\nTotal params: 721\nTrainable params: 721\nNon-trainable params: 0\n_________________________________________________________________\n"
     ]
    }
   ],
   "source": [
    "import tensorflow as tf\n",
    "\n",
    "layer_1 = 20\n",
    "inputs = X_train.shape[1]\n",
    "nn_model = tf.keras.models.Sequential()\n",
    "nn_model.add(tf.keras.layers.Dense(units=layer_1, activation='relu', input_dim=inputs))\n",
    "nn_model.add(tf.keras.layers.Dense(units=1, activation='sigmoid'))\n",
    "nn_model.compile(loss='binary_crossentropy', optimizer='adam', metrics=['accuracy'])\n",
    "nn_model.summary()\n"
   ]
  },
  {
   "cell_type": "code",
   "execution_count": 93,
   "metadata": {},
   "outputs": [
    {
     "output_type": "stream",
     "name": "stdout",
     "text": [
      "WARNING:tensorflow:Falling back from v2 loop because of error: Failed to find data adapter that can handle input: <class 'pandas.core.frame.DataFrame'>, <class 'NoneType'>\n",
      "Train on 1695525 samples\n",
      "Epoch 1/50\n",
      "1695525/1695525 [==============================] - 372s 219us/sample - loss: nan - accuracy: 0.0000e+00\n",
      "Epoch 2/50\n",
      "  78080/1695525 [>.............................] - ETA: 5:13 - loss: nan - accuracy: 0.0000e+00"
     ]
    },
    {
     "output_type": "error",
     "ename": "KeyboardInterrupt",
     "evalue": "",
     "traceback": [
      "\u001b[0;31m---------------------------------------------------------------------------\u001b[0m",
      "\u001b[0;31mKeyboardInterrupt\u001b[0m                         Traceback (most recent call last)",
      "\u001b[0;32m<ipython-input-93-d26e1c8404b2>\u001b[0m in \u001b[0;36m<module>\u001b[0;34m\u001b[0m\n\u001b[0;32m----> 1\u001b[0;31m \u001b[0mfit_model\u001b[0m \u001b[0;34m=\u001b[0m\u001b[0mnn_model\u001b[0m\u001b[0;34m.\u001b[0m\u001b[0mfit\u001b[0m\u001b[0;34m(\u001b[0m\u001b[0mX_train\u001b[0m\u001b[0;34m,\u001b[0m \u001b[0my_train\u001b[0m\u001b[0;34m,\u001b[0m \u001b[0mepochs\u001b[0m\u001b[0;34m=\u001b[0m\u001b[0;36m50\u001b[0m\u001b[0;34m)\u001b[0m\u001b[0;34m\u001b[0m\u001b[0;34m\u001b[0m\u001b[0m\n\u001b[0m",
      "\u001b[0;32m~/opt/miniconda3/envs/mlenv/lib/python3.7/site-packages/tensorflow_core/python/keras/engine/training.py\u001b[0m in \u001b[0;36mfit\u001b[0;34m(self, x, y, batch_size, epochs, verbose, callbacks, validation_split, validation_data, shuffle, class_weight, sample_weight, initial_epoch, steps_per_epoch, validation_steps, validation_freq, max_queue_size, workers, use_multiprocessing, **kwargs)\u001b[0m\n\u001b[1;32m    726\u001b[0m         \u001b[0mmax_queue_size\u001b[0m\u001b[0;34m=\u001b[0m\u001b[0mmax_queue_size\u001b[0m\u001b[0;34m,\u001b[0m\u001b[0;34m\u001b[0m\u001b[0;34m\u001b[0m\u001b[0m\n\u001b[1;32m    727\u001b[0m         \u001b[0mworkers\u001b[0m\u001b[0;34m=\u001b[0m\u001b[0mworkers\u001b[0m\u001b[0;34m,\u001b[0m\u001b[0;34m\u001b[0m\u001b[0;34m\u001b[0m\u001b[0m\n\u001b[0;32m--> 728\u001b[0;31m         use_multiprocessing=use_multiprocessing)\n\u001b[0m\u001b[1;32m    729\u001b[0m \u001b[0;34m\u001b[0m\u001b[0m\n\u001b[1;32m    730\u001b[0m   def evaluate(self,\n",
      "\u001b[0;32m~/opt/miniconda3/envs/mlenv/lib/python3.7/site-packages/tensorflow_core/python/keras/engine/training_arrays.py\u001b[0m in \u001b[0;36mfit\u001b[0;34m(self, model, x, y, batch_size, epochs, verbose, callbacks, validation_split, validation_data, shuffle, class_weight, sample_weight, initial_epoch, steps_per_epoch, validation_steps, validation_freq, **kwargs)\u001b[0m\n\u001b[1;32m    672\u001b[0m         \u001b[0mvalidation_steps\u001b[0m\u001b[0;34m=\u001b[0m\u001b[0mvalidation_steps\u001b[0m\u001b[0;34m,\u001b[0m\u001b[0;34m\u001b[0m\u001b[0;34m\u001b[0m\u001b[0m\n\u001b[1;32m    673\u001b[0m         \u001b[0mvalidation_freq\u001b[0m\u001b[0;34m=\u001b[0m\u001b[0mvalidation_freq\u001b[0m\u001b[0;34m,\u001b[0m\u001b[0;34m\u001b[0m\u001b[0;34m\u001b[0m\u001b[0m\n\u001b[0;32m--> 674\u001b[0;31m         steps_name='steps_per_epoch')\n\u001b[0m\u001b[1;32m    675\u001b[0m \u001b[0;34m\u001b[0m\u001b[0m\n\u001b[1;32m    676\u001b[0m   def evaluate(self,\n",
      "\u001b[0;32m~/opt/miniconda3/envs/mlenv/lib/python3.7/site-packages/tensorflow_core/python/keras/engine/training_arrays.py\u001b[0m in \u001b[0;36mmodel_iteration\u001b[0;34m(model, inputs, targets, sample_weights, batch_size, epochs, verbose, callbacks, val_inputs, val_targets, val_sample_weights, shuffle, initial_epoch, steps_per_epoch, validation_steps, validation_freq, mode, validation_in_fit, prepared_feed_values_from_dataset, steps_name, **kwargs)\u001b[0m\n\u001b[1;32m    391\u001b[0m \u001b[0;34m\u001b[0m\u001b[0m\n\u001b[1;32m    392\u001b[0m         \u001b[0;31m# Get outputs.\u001b[0m\u001b[0;34m\u001b[0m\u001b[0;34m\u001b[0m\u001b[0;34m\u001b[0m\u001b[0m\n\u001b[0;32m--> 393\u001b[0;31m         \u001b[0mbatch_outs\u001b[0m \u001b[0;34m=\u001b[0m \u001b[0mf\u001b[0m\u001b[0;34m(\u001b[0m\u001b[0mins_batch\u001b[0m\u001b[0;34m)\u001b[0m\u001b[0;34m\u001b[0m\u001b[0;34m\u001b[0m\u001b[0m\n\u001b[0m\u001b[1;32m    394\u001b[0m         \u001b[0;32mif\u001b[0m \u001b[0;32mnot\u001b[0m \u001b[0misinstance\u001b[0m\u001b[0;34m(\u001b[0m\u001b[0mbatch_outs\u001b[0m\u001b[0;34m,\u001b[0m \u001b[0mlist\u001b[0m\u001b[0;34m)\u001b[0m\u001b[0;34m:\u001b[0m\u001b[0;34m\u001b[0m\u001b[0;34m\u001b[0m\u001b[0m\n\u001b[1;32m    395\u001b[0m           \u001b[0mbatch_outs\u001b[0m \u001b[0;34m=\u001b[0m \u001b[0;34m[\u001b[0m\u001b[0mbatch_outs\u001b[0m\u001b[0;34m]\u001b[0m\u001b[0;34m\u001b[0m\u001b[0;34m\u001b[0m\u001b[0m\n",
      "\u001b[0;32m~/opt/miniconda3/envs/mlenv/lib/python3.7/site-packages/tensorflow_core/python/keras/backend.py\u001b[0m in \u001b[0;36m__call__\u001b[0;34m(self, inputs)\u001b[0m\n\u001b[1;32m   3738\u001b[0m         \u001b[0mvalue\u001b[0m \u001b[0;34m=\u001b[0m \u001b[0mmath_ops\u001b[0m\u001b[0;34m.\u001b[0m\u001b[0mcast\u001b[0m\u001b[0;34m(\u001b[0m\u001b[0mvalue\u001b[0m\u001b[0;34m,\u001b[0m \u001b[0mtensor\u001b[0m\u001b[0;34m.\u001b[0m\u001b[0mdtype\u001b[0m\u001b[0;34m)\u001b[0m\u001b[0;34m\u001b[0m\u001b[0;34m\u001b[0m\u001b[0m\n\u001b[1;32m   3739\u001b[0m       \u001b[0mconverted_inputs\u001b[0m\u001b[0;34m.\u001b[0m\u001b[0mappend\u001b[0m\u001b[0;34m(\u001b[0m\u001b[0mvalue\u001b[0m\u001b[0;34m)\u001b[0m\u001b[0;34m\u001b[0m\u001b[0;34m\u001b[0m\u001b[0m\n\u001b[0;32m-> 3740\u001b[0;31m     \u001b[0moutputs\u001b[0m \u001b[0;34m=\u001b[0m \u001b[0mself\u001b[0m\u001b[0;34m.\u001b[0m\u001b[0m_graph_fn\u001b[0m\u001b[0;34m(\u001b[0m\u001b[0;34m*\u001b[0m\u001b[0mconverted_inputs\u001b[0m\u001b[0;34m)\u001b[0m\u001b[0;34m\u001b[0m\u001b[0;34m\u001b[0m\u001b[0m\n\u001b[0m\u001b[1;32m   3741\u001b[0m \u001b[0;34m\u001b[0m\u001b[0m\n\u001b[1;32m   3742\u001b[0m     \u001b[0;31m# EagerTensor.numpy() will often make a copy to ensure memory safety.\u001b[0m\u001b[0;34m\u001b[0m\u001b[0;34m\u001b[0m\u001b[0;34m\u001b[0m\u001b[0m\n",
      "\u001b[0;32m~/opt/miniconda3/envs/mlenv/lib/python3.7/site-packages/tensorflow_core/python/eager/function.py\u001b[0m in \u001b[0;36m__call__\u001b[0;34m(self, *args, **kwargs)\u001b[0m\n\u001b[1;32m   1079\u001b[0m       \u001b[0mTypeError\u001b[0m\u001b[0;34m:\u001b[0m \u001b[0mFor\u001b[0m \u001b[0minvalid\u001b[0m \u001b[0mpositional\u001b[0m\u001b[0;34m/\u001b[0m\u001b[0mkeyword\u001b[0m \u001b[0margument\u001b[0m \u001b[0mcombinations\u001b[0m\u001b[0;34m.\u001b[0m\u001b[0;34m\u001b[0m\u001b[0;34m\u001b[0m\u001b[0m\n\u001b[1;32m   1080\u001b[0m     \"\"\"\n\u001b[0;32m-> 1081\u001b[0;31m     \u001b[0;32mreturn\u001b[0m \u001b[0mself\u001b[0m\u001b[0;34m.\u001b[0m\u001b[0m_call_impl\u001b[0m\u001b[0;34m(\u001b[0m\u001b[0margs\u001b[0m\u001b[0;34m,\u001b[0m \u001b[0mkwargs\u001b[0m\u001b[0;34m)\u001b[0m\u001b[0;34m\u001b[0m\u001b[0;34m\u001b[0m\u001b[0m\n\u001b[0m\u001b[1;32m   1082\u001b[0m \u001b[0;34m\u001b[0m\u001b[0m\n\u001b[1;32m   1083\u001b[0m   \u001b[0;32mdef\u001b[0m \u001b[0m_call_impl\u001b[0m\u001b[0;34m(\u001b[0m\u001b[0mself\u001b[0m\u001b[0;34m,\u001b[0m \u001b[0margs\u001b[0m\u001b[0;34m,\u001b[0m \u001b[0mkwargs\u001b[0m\u001b[0;34m,\u001b[0m \u001b[0mcancellation_manager\u001b[0m\u001b[0;34m=\u001b[0m\u001b[0;32mNone\u001b[0m\u001b[0;34m)\u001b[0m\u001b[0;34m:\u001b[0m\u001b[0;34m\u001b[0m\u001b[0;34m\u001b[0m\u001b[0m\n",
      "\u001b[0;32m~/opt/miniconda3/envs/mlenv/lib/python3.7/site-packages/tensorflow_core/python/eager/function.py\u001b[0m in \u001b[0;36m_call_impl\u001b[0;34m(self, args, kwargs, cancellation_manager)\u001b[0m\n\u001b[1;32m   1119\u001b[0m       raise TypeError(\"Keyword arguments {} unknown. Expected {}.\".format(\n\u001b[1;32m   1120\u001b[0m           list(kwargs.keys()), list(self._arg_keywords)))\n\u001b[0;32m-> 1121\u001b[0;31m     \u001b[0;32mreturn\u001b[0m \u001b[0mself\u001b[0m\u001b[0;34m.\u001b[0m\u001b[0m_call_flat\u001b[0m\u001b[0;34m(\u001b[0m\u001b[0margs\u001b[0m\u001b[0;34m,\u001b[0m \u001b[0mself\u001b[0m\u001b[0;34m.\u001b[0m\u001b[0mcaptured_inputs\u001b[0m\u001b[0;34m,\u001b[0m \u001b[0mcancellation_manager\u001b[0m\u001b[0;34m)\u001b[0m\u001b[0;34m\u001b[0m\u001b[0;34m\u001b[0m\u001b[0m\n\u001b[0m\u001b[1;32m   1122\u001b[0m \u001b[0;34m\u001b[0m\u001b[0m\n\u001b[1;32m   1123\u001b[0m   \u001b[0;32mdef\u001b[0m \u001b[0m_filtered_call\u001b[0m\u001b[0;34m(\u001b[0m\u001b[0mself\u001b[0m\u001b[0;34m,\u001b[0m \u001b[0margs\u001b[0m\u001b[0;34m,\u001b[0m \u001b[0mkwargs\u001b[0m\u001b[0;34m)\u001b[0m\u001b[0;34m:\u001b[0m\u001b[0;34m\u001b[0m\u001b[0;34m\u001b[0m\u001b[0m\n",
      "\u001b[0;32m~/opt/miniconda3/envs/mlenv/lib/python3.7/site-packages/tensorflow_core/python/eager/function.py\u001b[0m in \u001b[0;36m_call_flat\u001b[0;34m(self, args, captured_inputs, cancellation_manager)\u001b[0m\n\u001b[1;32m   1222\u001b[0m     \u001b[0;32mif\u001b[0m \u001b[0mexecuting_eagerly\u001b[0m\u001b[0;34m:\u001b[0m\u001b[0;34m\u001b[0m\u001b[0;34m\u001b[0m\u001b[0m\n\u001b[1;32m   1223\u001b[0m       flat_outputs = forward_function.call(\n\u001b[0;32m-> 1224\u001b[0;31m           ctx, args, cancellation_manager=cancellation_manager)\n\u001b[0m\u001b[1;32m   1225\u001b[0m     \u001b[0;32melse\u001b[0m\u001b[0;34m:\u001b[0m\u001b[0;34m\u001b[0m\u001b[0;34m\u001b[0m\u001b[0m\n\u001b[1;32m   1226\u001b[0m       \u001b[0mgradient_name\u001b[0m \u001b[0;34m=\u001b[0m \u001b[0mself\u001b[0m\u001b[0;34m.\u001b[0m\u001b[0m_delayed_rewrite_functions\u001b[0m\u001b[0;34m.\u001b[0m\u001b[0mregister\u001b[0m\u001b[0;34m(\u001b[0m\u001b[0;34m)\u001b[0m\u001b[0;34m\u001b[0m\u001b[0;34m\u001b[0m\u001b[0m\n",
      "\u001b[0;32m~/opt/miniconda3/envs/mlenv/lib/python3.7/site-packages/tensorflow_core/python/eager/function.py\u001b[0m in \u001b[0;36mcall\u001b[0;34m(self, ctx, args, cancellation_manager)\u001b[0m\n\u001b[1;32m    509\u001b[0m               \u001b[0minputs\u001b[0m\u001b[0;34m=\u001b[0m\u001b[0margs\u001b[0m\u001b[0;34m,\u001b[0m\u001b[0;34m\u001b[0m\u001b[0;34m\u001b[0m\u001b[0m\n\u001b[1;32m    510\u001b[0m               \u001b[0mattrs\u001b[0m\u001b[0;34m=\u001b[0m\u001b[0;34m(\u001b[0m\u001b[0;34m\"executor_type\"\u001b[0m\u001b[0;34m,\u001b[0m \u001b[0mexecutor_type\u001b[0m\u001b[0;34m,\u001b[0m \u001b[0;34m\"config_proto\"\u001b[0m\u001b[0;34m,\u001b[0m \u001b[0mconfig\u001b[0m\u001b[0;34m)\u001b[0m\u001b[0;34m,\u001b[0m\u001b[0;34m\u001b[0m\u001b[0;34m\u001b[0m\u001b[0m\n\u001b[0;32m--> 511\u001b[0;31m               ctx=ctx)\n\u001b[0m\u001b[1;32m    512\u001b[0m         \u001b[0;32melse\u001b[0m\u001b[0;34m:\u001b[0m\u001b[0;34m\u001b[0m\u001b[0;34m\u001b[0m\u001b[0m\n\u001b[1;32m    513\u001b[0m           outputs = execute.execute_with_cancellation(\n",
      "\u001b[0;32m~/opt/miniconda3/envs/mlenv/lib/python3.7/site-packages/tensorflow_core/python/eager/execute.py\u001b[0m in \u001b[0;36mquick_execute\u001b[0;34m(op_name, num_outputs, inputs, attrs, ctx, name)\u001b[0m\n\u001b[1;32m     59\u001b[0m     tensors = pywrap_tensorflow.TFE_Py_Execute(ctx._handle, device_name,\n\u001b[1;32m     60\u001b[0m                                                \u001b[0mop_name\u001b[0m\u001b[0;34m,\u001b[0m \u001b[0minputs\u001b[0m\u001b[0;34m,\u001b[0m \u001b[0mattrs\u001b[0m\u001b[0;34m,\u001b[0m\u001b[0;34m\u001b[0m\u001b[0;34m\u001b[0m\u001b[0m\n\u001b[0;32m---> 61\u001b[0;31m                                                num_outputs)\n\u001b[0m\u001b[1;32m     62\u001b[0m   \u001b[0;32mexcept\u001b[0m \u001b[0mcore\u001b[0m\u001b[0;34m.\u001b[0m\u001b[0m_NotOkStatusException\u001b[0m \u001b[0;32mas\u001b[0m \u001b[0me\u001b[0m\u001b[0;34m:\u001b[0m\u001b[0;34m\u001b[0m\u001b[0;34m\u001b[0m\u001b[0m\n\u001b[1;32m     63\u001b[0m     \u001b[0;32mif\u001b[0m \u001b[0mname\u001b[0m \u001b[0;32mis\u001b[0m \u001b[0;32mnot\u001b[0m \u001b[0;32mNone\u001b[0m\u001b[0;34m:\u001b[0m\u001b[0;34m\u001b[0m\u001b[0;34m\u001b[0m\u001b[0m\n",
      "\u001b[0;31mKeyboardInterrupt\u001b[0m: "
     ]
    }
   ],
   "source": [
    "fit_model =nn_model.fit(X_train, y_train, epochs=50)"
   ]
  },
  {
   "cell_type": "code",
   "execution_count": null,
   "metadata": {},
   "outputs": [],
   "source": []
  }
 ],
 "metadata": {
  "kernelspec": {
   "name": "python3",
   "display_name": "Python 3.7.9 64-bit ('mlenv': conda)",
   "metadata": {
    "interpreter": {
     "hash": "342355481251568d946b81fa6f1ceaf1668cb9b97b9b0e52534cee47996a832f"
    }
   }
  },
  "language_info": {
   "codemirror_mode": {
    "name": "ipython",
    "version": 3
   },
   "file_extension": ".py",
   "mimetype": "text/x-python",
   "name": "python",
   "nbconvert_exporter": "python",
   "pygments_lexer": "ipython3",
   "version": "3.7.9-final"
  }
 },
 "nbformat": 4,
 "nbformat_minor": 2
}